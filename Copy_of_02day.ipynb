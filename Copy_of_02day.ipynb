{
  "nbformat": 4,
  "nbformat_minor": 0,
  "metadata": {
    "colab": {
      "provenance": [],
      "authorship_tag": "ABX9TyO1l8XWYZsYf0ujcgwuWjfC",
      "include_colab_link": true
    },
    "kernelspec": {
      "name": "python3",
      "display_name": "Python 3"
    },
    "language_info": {
      "name": "python"
    }
  },
  "cells": [
    {
      "cell_type": "markdown",
      "metadata": {
        "id": "view-in-github",
        "colab_type": "text"
      },
      "source": [
        "<a href=\"https://colab.research.google.com/github/Abhilash-K-R/skill_lab/blob/main/Copy_of_02day.ipynb\" target=\"_parent\"><img src=\"https://colab.research.google.com/assets/colab-badge.svg\" alt=\"Open In Colab\"/></a>"
      ]
    },
    {
      "cell_type": "code",
      "source": [
        "# string index"
      ],
      "metadata": {
        "id": "g1-IW6wiNUGx"
      },
      "execution_count": null,
      "outputs": []
    },
    {
      "cell_type": "code",
      "execution_count": null,
      "metadata": {
        "colab": {
          "base_uri": "https://localhost:8080/"
        },
        "id": "yCvyTpl-K2nf",
        "outputId": "74551db7-5e48-437e-cbac-525ecbc1bb4a"
      },
      "outputs": [
        {
          "output_type": "stream",
          "name": "stdout",
          "text": [
            "b\n"
          ]
        }
      ],
      "source": [
        "a=\"abhilash\"\n",
        "print(a[1])\n"
      ]
    },
    {
      "cell_type": "code",
      "source": [
        "for x in \"banana\":\n",
        "  print(x)\n"
      ],
      "metadata": {
        "colab": {
          "base_uri": "https://localhost:8080/"
        },
        "id": "UI0sPcmALgez",
        "outputId": "8e8f73a2-f8dd-4822-d35d-ad68649b9f9c"
      },
      "execution_count": null,
      "outputs": [
        {
          "output_type": "stream",
          "name": "stdout",
          "text": [
            "b\n",
            "a\n",
            "n\n",
            "a\n",
            "n\n",
            "a\n"
          ]
        }
      ]
    },
    {
      "cell_type": "code",
      "source": [
        "print(len(a))"
      ],
      "metadata": {
        "colab": {
          "base_uri": "https://localhost:8080/"
        },
        "id": "1NusKkqYLndr",
        "outputId": "2c5243d7-6124-4936-ee47-6d590a8f676d"
      },
      "execution_count": null,
      "outputs": [
        {
          "output_type": "stream",
          "name": "stdout",
          "text": [
            "8\n"
          ]
        }
      ]
    },
    {
      "cell_type": "code",
      "source": [
        "text = \"the best thing in life are free\\n\"\n",
        "print(\"free\"in text)"
      ],
      "metadata": {
        "colab": {
          "base_uri": "https://localhost:8080/"
        },
        "id": "HXqLSlm9L5le",
        "outputId": "737f8eb7-6871-444c-ff9e-a9cd7b215c1b"
      },
      "execution_count": null,
      "outputs": [
        {
          "output_type": "stream",
          "name": "stdout",
          "text": [
            "True\n"
          ]
        }
      ]
    },
    {
      "cell_type": "code",
      "source": [
        "text = \"the best thing in life are free\\n\"\n",
        "print(\"expensive\"in text)"
      ],
      "metadata": {
        "colab": {
          "base_uri": "https://localhost:8080/"
        },
        "outputId": "cbae6001-ff9a-4d64-a3ed-d81ef692ad70",
        "id": "E_K5FviaM0m7"
      },
      "execution_count": null,
      "outputs": [
        {
          "output_type": "stream",
          "name": "stdout",
          "text": [
            "False\n"
          ]
        }
      ]
    },
    {
      "cell_type": "code",
      "source": [
        "text = \"the best thing in life are free\\n\"\n",
        "print(\"free\" not in text)"
      ],
      "metadata": {
        "colab": {
          "base_uri": "https://localhost:8080/"
        },
        "outputId": "706fb0c6-c24e-47bc-efdd-73785c6c90a4",
        "id": "_NtuycdjMmET"
      },
      "execution_count": null,
      "outputs": [
        {
          "output_type": "stream",
          "name": "stdout",
          "text": [
            "False\n"
          ]
        }
      ]
    },
    {
      "cell_type": "code",
      "source": [
        "text = \"the best thing in life are free\\n\"\n",
        "print(\"expensive\" not in text)"
      ],
      "metadata": {
        "colab": {
          "base_uri": "https://localhost:8080/"
        },
        "outputId": "41526281-5e1a-468a-f8a4-b75509620255",
        "id": "yIEgoZNdMrAJ"
      },
      "execution_count": null,
      "outputs": [
        {
          "output_type": "stream",
          "name": "stdout",
          "text": [
            "True\n"
          ]
        }
      ]
    },
    {
      "cell_type": "code",
      "source": [
        "# string slicing\n",
        "# start : stop : step"
      ],
      "metadata": {
        "id": "_5PqENasM9Ku"
      },
      "execution_count": null,
      "outputs": []
    },
    {
      "cell_type": "code",
      "source": [
        "a = \"abhilash\"\n",
        "print(a[2:5])"
      ],
      "metadata": {
        "colab": {
          "base_uri": "https://localhost:8080/"
        },
        "id": "WXc3bPQSNOMJ",
        "outputId": "29805707-d30a-42c0-df12-34456f743ea9"
      },
      "execution_count": null,
      "outputs": [
        {
          "output_type": "stream",
          "name": "stdout",
          "text": [
            "hil\n"
          ]
        }
      ]
    },
    {
      "cell_type": "code",
      "source": [
        "print(a[:])"
      ],
      "metadata": {
        "colab": {
          "base_uri": "https://localhost:8080/"
        },
        "id": "7VckZCSNN9C3",
        "outputId": "979c963f-21f0-4ebe-edbb-f30f007b06dd"
      },
      "execution_count": null,
      "outputs": [
        {
          "output_type": "stream",
          "name": "stdout",
          "text": [
            "abhilash\n"
          ]
        }
      ]
    },
    {
      "cell_type": "code",
      "source": [
        "print(a[4:])"
      ],
      "metadata": {
        "colab": {
          "base_uri": "https://localhost:8080/"
        },
        "id": "WsNpQteNOFCM",
        "outputId": "51a5a14b-73ec-496e-c91c-039fd7184901"
      },
      "execution_count": null,
      "outputs": [
        {
          "output_type": "stream",
          "name": "stdout",
          "text": [
            "lash\n"
          ]
        }
      ]
    },
    {
      "cell_type": "code",
      "source": [
        "print(a[:4])"
      ],
      "metadata": {
        "colab": {
          "base_uri": "https://localhost:8080/"
        },
        "id": "HqVmf9c6OOky",
        "outputId": "da0a1cec-b81f-41e3-dd7f-afec49c18a09"
      },
      "execution_count": null,
      "outputs": [
        {
          "output_type": "stream",
          "name": "stdout",
          "text": [
            "abhi\n"
          ]
        }
      ]
    },
    {
      "cell_type": "code",
      "source": [
        "print(a[::3])"
      ],
      "metadata": {
        "colab": {
          "base_uri": "https://localhost:8080/"
        },
        "id": "JTgNG4uCOhD0",
        "outputId": "947521e8-ec18-4ef1-9b61-5b6fdaa54c2e"
      },
      "execution_count": null,
      "outputs": [
        {
          "output_type": "stream",
          "name": "stdout",
          "text": [
            "ais\n"
          ]
        }
      ]
    },
    {
      "cell_type": "code",
      "source": [
        "print(a[::2])"
      ],
      "metadata": {
        "colab": {
          "base_uri": "https://localhost:8080/"
        },
        "id": "iEGoxPQuOvPO",
        "outputId": "dfd4a249-2a2f-453a-a17a-b5760ad2286f"
      },
      "execution_count": null,
      "outputs": [
        {
          "output_type": "stream",
          "name": "stdout",
          "text": [
            "ahls\n"
          ]
        }
      ]
    },
    {
      "cell_type": "code",
      "source": [
        "a=\"abhilash\"\n",
        "print(a[1:4])\n",
        "print(a[-4:-1])"
      ],
      "metadata": {
        "colab": {
          "base_uri": "https://localhost:8080/"
        },
        "id": "A7MCOSKDPYPv",
        "outputId": "45a833e2-d7bc-401d-e358-49b169a77edd"
      },
      "execution_count": null,
      "outputs": [
        {
          "output_type": "stream",
          "name": "stdout",
          "text": [
            "bhi\n",
            "las\n"
          ]
        }
      ]
    },
    {
      "cell_type": "code",
      "source": [
        "#"
      ],
      "metadata": {
        "id": "MjfPff9FQLll"
      },
      "execution_count": null,
      "outputs": []
    },
    {
      "cell_type": "code",
      "source": [
        "print(a.lower())"
      ],
      "metadata": {
        "colab": {
          "base_uri": "https://localhost:8080/"
        },
        "id": "eAsTfdZpQQI8",
        "outputId": "89f186cc-db3d-4e7c-c653-c10c6a2abb82"
      },
      "execution_count": null,
      "outputs": [
        {
          "output_type": "stream",
          "name": "stdout",
          "text": [
            "abhilash\n"
          ]
        }
      ]
    },
    {
      "cell_type": "code",
      "source": [
        "print(a.upper())"
      ],
      "metadata": {
        "colab": {
          "base_uri": "https://localhost:8080/"
        },
        "id": "M6NCEiXRQeRd",
        "outputId": "8e993140-72c7-4234-a327-a4f309819b53"
      },
      "execution_count": null,
      "outputs": [
        {
          "output_type": "stream",
          "name": "stdout",
          "text": [
            "ABHILASH\n"
          ]
        }
      ]
    },
    {
      "cell_type": "code",
      "source": [
        "a=\"abhiLash is student\"\n",
        "print(a.strip())"
      ],
      "metadata": {
        "colab": {
          "base_uri": "https://localhost:8080/"
        },
        "id": "Cmm3AYDmQnmQ",
        "outputId": "ee61ed59-e7ee-4201-851a-35026e7187cd"
      },
      "execution_count": null,
      "outputs": [
        {
          "output_type": "stream",
          "name": "stdout",
          "text": [
            "abhiLash is student\n"
          ]
        }
      ]
    },
    {
      "cell_type": "code",
      "source": [
        "a = \"abhilash\"\n",
        "print(a.replace(\"a\",\"A\"))"
      ],
      "metadata": {
        "colab": {
          "base_uri": "https://localhost:8080/"
        },
        "id": "LhZ_SxKzRJk0",
        "outputId": "b0ee884c-6052-4c45-cc13-1ad8248960d0"
      },
      "execution_count": null,
      "outputs": [
        {
          "output_type": "stream",
          "name": "stdout",
          "text": [
            "AbhilAsh\n"
          ]
        }
      ]
    },
    {
      "cell_type": "code",
      "source": [
        "a=\"abhilash , yaaaaaa, haaaaa\"\n",
        "print(a.split(\",\"))"
      ],
      "metadata": {
        "colab": {
          "base_uri": "https://localhost:8080/"
        },
        "id": "482w6tDgRVNk",
        "outputId": "3bd91641-0f59-4790-9f33-f04cc602f0b3"
      },
      "execution_count": null,
      "outputs": [
        {
          "output_type": "stream",
          "name": "stdout",
          "text": [
            "['abhilash ', ' yaaaaaa', ' haaaaa']\n"
          ]
        }
      ]
    },
    {
      "cell_type": "code",
      "source": [
        "a=\"abhilash , yaaaaaa, haaaaa\",\"aaa , aaaa ,aa  \"\n",
        "print(a[1].split(\",\"))"
      ],
      "metadata": {
        "colab": {
          "base_uri": "https://localhost:8080/"
        },
        "id": "qnuvTSqTRwQg",
        "outputId": "5e2f33dd-2309-49b3-e290-760dd6e4fef1"
      },
      "execution_count": null,
      "outputs": [
        {
          "output_type": "stream",
          "name": "stdout",
          "text": [
            "['aaa ', ' aaaa ', 'aa  ']\n"
          ]
        }
      ]
    },
    {
      "cell_type": "code",
      "source": [
        "# String Methods\n",
        "\"\"\"\n",
        "Method  Description\n",
        "\n",
        "capitalize()    Converts the first character to upper case\n",
        "casefold()  Converts string into lower case\n",
        "center()    Returns a centered string\n",
        "count() Returns the number of times a specified value occurs in a string\n",
        "encode()    Returns an encoded version of the string\n",
        "endswith()  Returns true if the string ends with the specified value\n",
        "expandtabs()    Sets the tab size of the string\n",
        "find()  Searches the string for a specified value and returns the position of where it was found\n",
        "format()    Formats specified values in a string\n",
        "format_map()    Formats specified values in a string\n",
        "index() Searches the string for a specified value and returns the position of where it was found\n",
        "isalnum()   Returns True if all characters in the string are alphanumeric\n",
        "isalpha()   Returns True if all characters in the string are in the alphabet\n",
        "isascii()   Returns True if all characters in the string are ascii characters\n",
        "isdecimal() Returns True if all characters in the string are decimals\n",
        "isdigit()   Returns True if all characters in the string are digits\n",
        "isidentifier()  Returns True if the string is an identifier\n",
        "islower()   Returns True if all characters in the string are lower case\n",
        "isnumeric() Returns True if all characters in the string are numeric\n",
        "isprintable()   Returns True if all characters in the string are printable\n",
        "isspace()   Returns True if all characters in the string are whitespaces\n",
        "istitle()   Returns True if the string follows the rules of a title\n",
        "isupper()   Returns True if all characters in the string are upper case\n",
        "join()  Joins the elements of an iterable to the end of the string\n",
        "ljust() Returns a left justified version of the string\n",
        "lower() Converts a string into lower case\n",
        "lstrip()    Returns a left trim version of the string\n",
        "maketrans() Returns a translation table to be used in translations\n",
        "partition() Returns a tuple where the string is parted into three parts\n",
        "replace()   Returns a string where a specified value is replaced with a specified value\n",
        "rfind() Searches the string for a specified value and returns the last position of where it was found\n",
        "rindex()    Searches the string for a specified value and returns the last position of where it was found\n",
        "rjust() Returns a right justified version of the string\n",
        "rpartition()    Returns a tuple where the string is parted into three parts\n",
        "rsplit()    Splits the string at the specified separator, and returns a list\n",
        "rstrip()    Returns a right trim version of the string\n",
        "split() Splits the string at the specified separator, and returns a list\n",
        "splitlines()    Splits the string at line breaks and returns a list\n",
        "startswith()    Returns true if the string starts with the specified value\n",
        "strip() Returns a trimmed version of the string\n",
        "swapcase()  Swaps cases, lower case becomes upper case and vice versa\n",
        "title() Converts the first character of each word to upper case\n",
        "translate() Returns a translated string\n",
        "upper() Converts a string into upper case\n",
        "zfill() Fills the string with a specified number of 0 values at the beginning\"\"\"\n"
      ],
      "metadata": {
        "id": "PLd5e_-LYUXw",
        "colab": {
          "base_uri": "https://localhost:8080/",
          "height": 176
        },
        "outputId": "e5d666e6-8771-4202-f30c-8d8d536c8fcf"
      },
      "execution_count": null,
      "outputs": [
        {
          "output_type": "execute_result",
          "data": {
            "text/plain": [
              "'\\nMethod  Description\\n\\ncapitalize()    Converts the first character to upper case\\ncasefold()  Converts string into lower case\\ncenter()    Returns a centered string\\ncount() Returns the number of times a specified value occurs in a string\\nencode()    Returns an encoded version of the string\\nendswith()  Returns true if the string ends with the specified value\\nexpandtabs()    Sets the tab size of the string\\nfind()  Searches the string for a specified value and returns the position of where it was found\\nformat()    Formats specified values in a string\\nformat_map()    Formats specified values in a string\\nindex() Searches the string for a specified value and returns the position of where it was found\\nisalnum()   Returns True if all characters in the string are alphanumeric\\nisalpha()   Returns True if all characters in the string are in the alphabet\\nisascii()   Returns True if all characters in the string are ascii characters\\nisdecimal() Returns True if all characters in the string are decimals\\nisdigit()   Returns True if all characters in the string are digits\\nisidentifier()  Returns True if the string is an identifier\\nislower()   Returns True if all characters in the string are lower case\\nisnumeric() Returns True if all characters in the string are numeric\\nisprintable()   Returns True if all characters in the string are printable\\nisspace()   Returns True if all characters in the string are whitespaces\\nistitle()   Returns True if the string follows the rules of a title\\nisupper()   Returns True if all characters in the string are upper case\\njoin()  Joins the elements of an iterable to the end of the string\\nljust() Returns a left justified version of the string\\nlower() Converts a string into lower case\\nlstrip()    Returns a left trim version of the string\\nmaketrans() Returns a translation table to be used in translations\\npartition() Returns a tuple where the string is parted into three parts\\nreplace()   Returns a string where a specified value is replaced with a specified value\\nrfind() Searches the string for a specified value and returns the last position of where it was found\\nrindex()    Searches the string for a specified value and returns the last position of where it was found\\nrjust() Returns a right justified version of the string\\nrpartition()    Returns a tuple where the string is parted into three parts\\nrsplit()    Splits the string at the specified separator, and returns a list\\nrstrip()    Returns a right trim version of the string\\nsplit() Splits the string at the specified separator, and returns a list\\nsplitlines()    Splits the string at line breaks and returns a list\\nstartswith()    Returns true if the string starts with the specified value\\nstrip() Returns a trimmed version of the string\\nswapcase()  Swaps cases, lower case becomes upper case and vice versa\\ntitle() Converts the first character of each word to upper case\\ntranslate() Returns a translated string\\nupper() Converts a string into upper case\\nzfill() Fills the string with a specified number of 0 values at the beginning'"
            ],
            "application/vnd.google.colaboratory.intrinsic+json": {
              "type": "string"
            }
          },
          "metadata": {},
          "execution_count": 52
        }
      ]
    },
    {
      "cell_type": "code",
      "source": [
        "# define a function\n",
        "\n",
        "# parameter :- parameter is a variable listed inside the paranthesis when a particular function is define\n",
        "# argument:- argument is a value that is sent to the function\n",
        "'''def function(parameter)\n",
        "      print(parameter+\"input\")\n",
        "  function(argument)\n",
        "'''\n"
      ],
      "metadata": {
        "id": "0TnKUqF9bera",
        "colab": {
          "base_uri": "https://localhost:8080/",
          "height": 55
        },
        "outputId": "6b96d90f-2526-4a4d-9a2b-52cb52a50271"
      },
      "execution_count": null,
      "outputs": [
        {
          "output_type": "execute_result",
          "data": {
            "text/plain": [
              "'def function(parameter)\\n      print(parameter+\"input\")\\n  function(argument)\\n'"
            ],
            "application/vnd.google.colaboratory.intrinsic+json": {
              "type": "string"
            }
          },
          "metadata": {},
          "execution_count": 53
        }
      ]
    },
    {
      "cell_type": "code",
      "source": [
        "\n",
        "def function():\n",
        "  print (\"lakalaka is good boy\")\n",
        "function()"
      ],
      "metadata": {
        "colab": {
          "base_uri": "https://localhost:8080/"
        },
        "id": "S4QwSfDVZqCX",
        "outputId": "a7e8a9bd-67ff-45f0-8b91-41971efb2153"
      },
      "execution_count": null,
      "outputs": [
        {
          "output_type": "stream",
          "name": "stdout",
          "text": [
            "lakalaka is good boy\n"
          ]
        }
      ]
    },
    {
      "cell_type": "code",
      "source": [
        "def abhi():\n",
        "  print(\"Hello  Abhilash K R \")\n",
        "  print(\"how are  you ?\")\n",
        "abhi()"
      ],
      "metadata": {
        "colab": {
          "base_uri": "https://localhost:8080/"
        },
        "id": "glzIigSOaHfQ",
        "outputId": "828659bb-36ff-4797-f28a-2421a39a7c33"
      },
      "execution_count": null,
      "outputs": [
        {
          "output_type": "stream",
          "name": "stdout",
          "text": [
            "Hello  Abhilash K R \n",
            "how are  you ?\n"
          ]
        }
      ]
    },
    {
      "cell_type": "code",
      "source": [
        "def my_fun(fname):   # 'fname' is a parameter\n",
        "  print(fname + \" pm\")\n",
        "my_fun(\"abhilash\") # 'abhilash' is a argument\n",
        "my_fun(\"abhi\")\n",
        "my_fun(\"abhishek\")"
      ],
      "metadata": {
        "colab": {
          "base_uri": "https://localhost:8080/"
        },
        "id": "k0ks7FJSbboB",
        "outputId": "0078706d-6a2a-4d98-fa75-f1b5d2f6f22d"
      },
      "execution_count": null,
      "outputs": [
        {
          "output_type": "stream",
          "name": "stdout",
          "text": [
            "abhilash pm\n",
            "abhi pm\n",
            "abhishek pm\n"
          ]
        }
      ]
    },
    {
      "cell_type": "code",
      "source": [
        "# with Two parameters\n",
        "def my_fun(fname,lname):   # 'fname'&'lname' is a parameter\n",
        "  print(fname +\" \"+ lname)\n",
        "my_fun(\"abhilash\",\"K R\") # 'abhilash'&'K R' is a argument\n",
        "my_fun(\"abhi\",\"K R\")\n",
        "my_fun(\"abhishek\",\"K R\")\n"
      ],
      "metadata": {
        "colab": {
          "base_uri": "https://localhost:8080/"
        },
        "id": "HOlOkNtgcrqF",
        "outputId": "5df5534a-ec71-4146-ab5d-f31e2a5e4bae"
      },
      "execution_count": null,
      "outputs": [
        {
          "output_type": "stream",
          "name": "stdout",
          "text": [
            "abhilash K R\n",
            "abhi K R\n",
            "abhishek K R\n"
          ]
        }
      ]
    },
    {
      "cell_type": "code",
      "source": [
        "# arbitary arguments :- if you don't know how many arguments passed onto your function, add a '*' before the parameter\n",
        "def my_func(*kids):\n",
        "  print(\"the youngest child is \"+ kids[0])\n",
        "my_func(\"anjanadri\",\"rohan\",\"rahul\")"
      ],
      "metadata": {
        "colab": {
          "base_uri": "https://localhost:8080/"
        },
        "id": "WBbmQhDneoby",
        "outputId": "dc61b544-8e65-460c-a041-efa9745012c5"
      },
      "execution_count": null,
      "outputs": [
        {
          "output_type": "stream",
          "name": "stdout",
          "text": [
            "the youngest child is anjanadri\n"
          ]
        }
      ]
    },
    {
      "cell_type": "code",
      "source": [
        "# keyword arguments\n",
        "def myfunc(student1,student2,student3):\n",
        "  print(\"the youngest student \"+student3)\n",
        "myfunc(\"anjanadri\",\"rahul\",\"hanumesh\")\n"
      ],
      "metadata": {
        "colab": {
          "base_uri": "https://localhost:8080/"
        },
        "id": "i-kWJhBsf_--",
        "outputId": "20b30d9f-7315-4ee3-856f-c0451bad5362"
      },
      "execution_count": null,
      "outputs": [
        {
          "output_type": "stream",
          "name": "stdout",
          "text": [
            "the youngest student hanumesh\n"
          ]
        }
      ]
    },
    {
      "cell_type": "code",
      "source": [
        "# defult parameters\n",
        "def mycoun(country=\"india\"):\n",
        "  print(\"i am from \"+country)\n",
        "mycoun(\"swedan\")\n",
        "mycoun(\"USA\")\n",
        "mycoun()\n",
        "mycoun(\"Russia\")"
      ],
      "metadata": {
        "colab": {
          "base_uri": "https://localhost:8080/"
        },
        "id": "IhgTRDvFlrHz",
        "outputId": "791afe95-4671-4c15-bf97-025a2df8c280"
      },
      "execution_count": null,
      "outputs": [
        {
          "output_type": "stream",
          "name": "stdout",
          "text": [
            "i am from swedan\n",
            "i am from USA\n",
            "i am from india\n",
            "i am from Russia\n"
          ]
        }
      ]
    },
    {
      "cell_type": "code",
      "source": [
        "# table of 5\n",
        "def table(x):\n",
        "  return 5*x\n",
        "print(table(1))\n",
        "print(table(2))\n",
        "print(table(3))\n",
        "print(table(4))\n",
        "print(table(5))"
      ],
      "metadata": {
        "colab": {
          "base_uri": "https://localhost:8080/"
        },
        "id": "5aJJvJw2po7k",
        "outputId": "15b8521c-1abb-4052-cdcb-6a550e6fe6bd"
      },
      "execution_count": null,
      "outputs": [
        {
          "output_type": "stream",
          "name": "stdout",
          "text": [
            "5\n",
            "10\n",
            "15\n",
            "20\n",
            "25\n"
          ]
        }
      ]
    },
    {
      "cell_type": "code",
      "source": [
        "# pass:- when a pass statement with a particular function don't have any value inside it that we called pass statement\n",
        "'''\n",
        "def a():\n",
        "  pass\n",
        "  '''\n",
        "# factorial\n",
        "def factorial(n):\n",
        "  if n==1:\n",
        "    return 1\n",
        "  else:\n",
        "    return n*factorial(n-1) # make recursion (run again and again)\n",
        "factorial(4)"
      ],
      "metadata": {
        "colab": {
          "base_uri": "https://localhost:8080/"
        },
        "id": "ho3hLJRYrpgs",
        "outputId": "b71c1d91-0e68-4ec5-e063-604dd206321c"
      },
      "execution_count": null,
      "outputs": [
        {
          "output_type": "execute_result",
          "data": {
            "text/plain": [
              "24"
            ]
          },
          "metadata": {},
          "execution_count": 62
        }
      ]
    },
    {
      "cell_type": "code",
      "source": [
        "number = int(input(\"Enter a positive integer : \"))\n",
        "if number"
      ],
      "metadata": {
        "id": "kxwtwlsyIDv5"
      },
      "execution_count": null,
      "outputs": []
    },
    {
      "cell_type": "code",
      "source": [
        "# fibonacci seriess\n",
        "    # one of the most impartant in interview\n",
        "def fib(n):\n",
        "  if n<=1:\n",
        "    return n\n",
        "  else:\n",
        "    return fib(n-1)+fib(n-2)\n",
        "\n",
        "term = int(input(\"enter the number of term: \"))\n",
        "\n",
        "if term <= 0:\n",
        "  print(\"enter a positive integer! \")\n",
        "else:\n",
        "  print(\"fibonacci series \")\n",
        "  for i in range(term):\n",
        "    print(fib(i))"
      ],
      "metadata": {
        "colab": {
          "base_uri": "https://localhost:8080/"
        },
        "id": "rX54p3auCpyh",
        "outputId": "82f02db6-1f30-4491-9907-fb5d69b513d7"
      },
      "execution_count": null,
      "outputs": [
        {
          "output_type": "stream",
          "name": "stdout",
          "text": [
            "enter the number of term: 30\n",
            "fibonacci series \n",
            "0\n",
            "1\n",
            "1\n",
            "2\n",
            "3\n",
            "5\n",
            "8\n",
            "13\n",
            "21\n",
            "34\n",
            "55\n",
            "89\n",
            "144\n",
            "233\n",
            "377\n",
            "610\n",
            "987\n",
            "1597\n",
            "2584\n",
            "4181\n",
            "6765\n",
            "10946\n",
            "17711\n",
            "28657\n",
            "46368\n",
            "75025\n",
            "121393\n",
            "196418\n",
            "317811\n",
            "514229\n"
          ]
        }
      ]
    },
    {
      "cell_type": "code",
      "source": [
        "# DSA :- data structure and algorithms\n",
        "# Data Structure :- it is the way of organising the data in the reg and most eificient format\n",
        "# ex:linked list,array,tree\n",
        "# Algorithms :- step by step input to where a particular problem\\\n"
      ],
      "metadata": {
        "id": "0fi-DXCGDQSN"
      },
      "execution_count": null,
      "outputs": []
    },
    {
      "cell_type": "code",
      "source": [
        "# intro to data structure and algorithms\n",
        "\n",
        "# list : it is a built in data structure to store multiple values in single variable\n",
        "'''\n",
        "features of a list\n",
        ">>> its mutable\n",
        ">>> its ordered\n",
        ">>> its allows duplicate values[1,2,3,4,5,6,7,5,4,2]\n",
        "\n",
        "'''\n",
        "\n",
        "lista = [\"apple\",\"banana\",\"cherry\"]\n",
        "print(lista)"
      ],
      "metadata": {
        "id": "UZ1ovzuhMmr-",
        "colab": {
          "base_uri": "https://localhost:8080/"
        },
        "outputId": "e57ee451-60b3-48ab-a3f0-8cf681dce210"
      },
      "execution_count": null,
      "outputs": [
        {
          "output_type": "stream",
          "name": "stdout",
          "text": [
            "['apple', 'banana', 'cherry']\n"
          ]
        }
      ]
    },
    {
      "cell_type": "code",
      "source": [
        "# length of particular list\n",
        "print(len(lista))"
      ],
      "metadata": {
        "colab": {
          "base_uri": "https://localhost:8080/"
        },
        "id": "uNtHs5QUVIaO",
        "outputId": "002110ac-da97-4c9f-ea1d-7b599596c782"
      },
      "execution_count": null,
      "outputs": [
        {
          "output_type": "stream",
          "name": "stdout",
          "text": [
            "3\n"
          ]
        }
      ]
    },
    {
      "cell_type": "code",
      "source": [
        "# access a list indexes\n",
        "print(lista[0])"
      ],
      "metadata": {
        "colab": {
          "base_uri": "https://localhost:8080/"
        },
        "id": "w8XXbLIVVgo7",
        "outputId": "4ad96edc-e2ec-46ad-ce30-ca1325f6da33"
      },
      "execution_count": null,
      "outputs": [
        {
          "output_type": "stream",
          "name": "stdout",
          "text": [
            "apple\n"
          ]
        }
      ]
    },
    {
      "cell_type": "code",
      "source": [
        "# accessing nagitive indexes\n",
        "print(lista[-1])"
      ],
      "metadata": {
        "colab": {
          "base_uri": "https://localhost:8080/"
        },
        "id": "vMT0V9UoVsrH",
        "outputId": "e7c0cf4c-cafa-4682-8260-a863956279c7"
      },
      "execution_count": null,
      "outputs": [
        {
          "output_type": "stream",
          "name": "stdout",
          "text": [
            "cherry\n"
          ]
        }
      ]
    },
    {
      "cell_type": "code",
      "source": [
        "# checking the particular value in the list or not\n",
        "# in\n",
        "if \"apple\" in lista:\n",
        "  print(\"yes apple is there in this List\")\n",
        "\n",
        "print(\"apple\" in lista)"
      ],
      "metadata": {
        "colab": {
          "base_uri": "https://localhost:8080/"
        },
        "id": "m0NuwHHgWG7U",
        "outputId": "d2bf26c1-996e-4ca1-a0ab-47a425c4b7a3"
      },
      "execution_count": null,
      "outputs": [
        {
          "output_type": "stream",
          "name": "stdout",
          "text": [
            "yes apple is there in this List\n",
            "True\n"
          ]
        }
      ]
    },
    {
      "cell_type": "code",
      "source": [
        "# not in\n",
        "lista = [\"apple\",\"banana\",\"cherry\"]\n",
        "'''if \"apple\" not in lista:\n",
        "  print(\"apple is not in this list \")'''\n",
        "print(\"apple\" not in lista)"
      ],
      "metadata": {
        "colab": {
          "base_uri": "https://localhost:8080/"
        },
        "id": "nVBQWzD7W6vs",
        "outputId": "db9617cc-6681-4594-9be3-6f625e5965ca"
      },
      "execution_count": null,
      "outputs": [
        {
          "output_type": "stream",
          "name": "stdout",
          "text": [
            "False\n"
          ]
        }
      ]
    },
    {
      "cell_type": "code",
      "source": [
        "# changing the value in the list using index number\n",
        "lista[1] = \"mango\"\n",
        "print(lista)"
      ],
      "metadata": {
        "colab": {
          "base_uri": "https://localhost:8080/"
        },
        "id": "pwjWXZlrXgNg",
        "outputId": "2cc641fc-ce62-4463-c078-67600c9d0cc6"
      },
      "execution_count": null,
      "outputs": [
        {
          "output_type": "stream",
          "name": "stdout",
          "text": [
            "['apple', 'mango', 'cherry']\n"
          ]
        }
      ]
    },
    {
      "cell_type": "code",
      "source": [
        "# .insert() method\n",
        "# variable.insert(index_position,\"value\")\n",
        "\n",
        "lista = [\"apple\",\"banana\",\"cherry\"]\n",
        "lista.insert(3,\"watermillon\")\n",
        "print(lista)"
      ],
      "metadata": {
        "colab": {
          "base_uri": "https://localhost:8080/"
        },
        "id": "uP33YwEUX2an",
        "outputId": "d313fd6d-3f6e-4387-aa45-233a94338d30"
      },
      "execution_count": null,
      "outputs": [
        {
          "output_type": "stream",
          "name": "stdout",
          "text": [
            "['apple', 'banana', 'cherry', 'watermillon']\n"
          ]
        }
      ]
    },
    {
      "cell_type": "code",
      "source": [
        "# appending new values in the list using .append() method\n",
        "# variable,append(\"value\")\n",
        "\n",
        "lista.append(\"orange\")\n",
        "print(lista)"
      ],
      "metadata": {
        "colab": {
          "base_uri": "https://localhost:8080/"
        },
        "id": "KhRVydrWY0fJ",
        "outputId": "98361c5b-40c0-401b-ff68-d3c8f57044d2"
      },
      "execution_count": null,
      "outputs": [
        {
          "output_type": "stream",
          "name": "stdout",
          "text": [
            "['apple', 'banana', 'cherry', 'watermillon', 'orange']\n"
          ]
        }
      ]
    },
    {
      "cell_type": "code",
      "source": [
        "# removing the values in the list .remove() method\n",
        "# var.remove(\"value\")\n",
        "\n",
        "lista=['apple', 'banana', 'cherry', 'watermillon', 'orange']\n",
        "lista.remove(\"orange\")\n",
        "print(lista)"
      ],
      "metadata": {
        "colab": {
          "base_uri": "https://localhost:8080/"
        },
        "id": "F6tQTmUVZPh3",
        "outputId": "4ec6258b-331e-4c01-95b7-485e83988df9"
      },
      "execution_count": null,
      "outputs": [
        {
          "output_type": "stream",
          "name": "stdout",
          "text": [
            "['apple', 'banana', 'cherry', 'watermillon']\n"
          ]
        }
      ]
    },
    {
      "cell_type": "code",
      "source": [
        "# adding the itoms in the list to another list by using .extend() method\n",
        "# list1_var_name.extend(list_to_add_name)\n",
        "\n",
        "lista=['apple', 'banana', 'cherry', 'watermillon', 'orange']\n",
        "list=[\"ball\",\"bat\",\"rat\"]\n",
        "lista.extend(list)\n",
        "print(lista)"
      ],
      "metadata": {
        "colab": {
          "base_uri": "https://localhost:8080/"
        },
        "id": "enJUV5XRaU4X",
        "outputId": "2dc9cd96-176d-481d-f4c4-041399cd18d9"
      },
      "execution_count": null,
      "outputs": [
        {
          "output_type": "stream",
          "name": "stdout",
          "text": [
            "['apple', 'banana', 'cherry', 'watermillon', 'orange', 'ball', 'bat', 'rat']\n"
          ]
        }
      ]
    },
    {
      "cell_type": "code",
      "source": [
        "# remove elements from the list by using .pop() method\n",
        "# var_name.pop(removing_index)\n",
        "\n",
        "lista.pop(1)\n",
        "print(lista)"
      ],
      "metadata": {
        "colab": {
          "base_uri": "https://localhost:8080/"
        },
        "id": "CHN8poEybX4N",
        "outputId": "02f2c0be-93c4-4855-85fc-00dd19b7c967"
      },
      "execution_count": null,
      "outputs": [
        {
          "output_type": "stream",
          "name": "stdout",
          "text": [
            "['apple', 'cherry', 'watermillon', 'orange', 'ball', 'bat', 'rat']\n"
          ]
        }
      ]
    },
    {
      "cell_type": "code",
      "source": [
        "# deleting the elements in a list\n",
        "# del list_name[index_to_delete]\n",
        "\n",
        "del lista[1]\n",
        "print(lista)"
      ],
      "metadata": {
        "id": "eqO-EfmFcCox",
        "colab": {
          "base_uri": "https://localhost:8080/"
        },
        "outputId": "99c07f59-6b1e-45bf-d21f-4f67391147eb"
      },
      "execution_count": null,
      "outputs": [
        {
          "output_type": "stream",
          "name": "stdout",
          "text": [
            "['apple', 'orange', 'ball', 'bat', 'rat']\n"
          ]
        }
      ]
    },
    {
      "cell_type": "code",
      "source": [
        "# deleting entire list\n",
        "# del list_name\n",
        "\n",
        "del lista\n",
        "print(lista)"
      ],
      "metadata": {
        "colab": {
          "base_uri": "https://localhost:8080/",
          "height": 176
        },
        "id": "XGvA9wDQcnG3",
        "outputId": "0b48553f-d7c3-4660-d205-3588d0d92d98"
      },
      "execution_count": null,
      "outputs": [
        {
          "output_type": "error",
          "ename": "NameError",
          "evalue": "name 'lista' is not defined",
          "traceback": [
            "\u001b[0;31m---------------------------------------------------------------------------\u001b[0m",
            "\u001b[0;31mNameError\u001b[0m                                 Traceback (most recent call last)",
            "\u001b[0;32m<ipython-input-93-5ec3b85f4c45>\u001b[0m in \u001b[0;36m<cell line: 5>\u001b[0;34m()\u001b[0m\n\u001b[1;32m      3\u001b[0m \u001b[0;34m\u001b[0m\u001b[0m\n\u001b[1;32m      4\u001b[0m \u001b[0;32mdel\u001b[0m \u001b[0mlista\u001b[0m\u001b[0;34m\u001b[0m\u001b[0;34m\u001b[0m\u001b[0m\n\u001b[0;32m----> 5\u001b[0;31m \u001b[0mprint\u001b[0m\u001b[0;34m(\u001b[0m\u001b[0mlista\u001b[0m\u001b[0;34m)\u001b[0m\u001b[0;34m\u001b[0m\u001b[0;34m\u001b[0m\u001b[0m\n\u001b[0m",
            "\u001b[0;31mNameError\u001b[0m: name 'lista' is not defined"
          ]
        }
      ]
    },
    {
      "cell_type": "code",
      "source": [
        "# clearing all elements in the list  by using clear() method\n",
        "# list_name.clear()\n",
        "\n",
        "list=['apple', 'orange', 'ball', 'bat', 'rat']\n",
        "list.clear()\n",
        "print(list)"
      ],
      "metadata": {
        "colab": {
          "base_uri": "https://localhost:8080/"
        },
        "id": "mJfzHd1Ac5YO",
        "outputId": "0b3cdd7d-4f7e-4655-ca8f-d73499ce53e6"
      },
      "execution_count": null,
      "outputs": [
        {
          "output_type": "stream",
          "name": "stdout",
          "text": [
            "[]\n"
          ]
        }
      ]
    },
    {
      "cell_type": "code",
      "source": [
        "# looping the list\n",
        "\n",
        "listb=['apple', 'orange', 'ball', 'bat', 'rat']\n",
        "for i in listb:\n",
        "  print(i)"
      ],
      "metadata": {
        "colab": {
          "base_uri": "https://localhost:8080/"
        },
        "id": "3I2aN6ljdXci",
        "outputId": "be6c3b98-df62-4711-db9b-eea775ba6a02"
      },
      "execution_count": null,
      "outputs": [
        {
          "output_type": "stream",
          "name": "stdout",
          "text": [
            "apple\n",
            "orange\n",
            "ball\n",
            "bat\n",
            "rat\n"
          ]
        }
      ]
    },
    {
      "cell_type": "code",
      "source": [
        "# looping the list with strings\n",
        "\n",
        "for i in range(len(listb)):\n",
        "  print(listb[i])\n"
      ],
      "metadata": {
        "colab": {
          "base_uri": "https://localhost:8080/"
        },
        "id": "u5hvXRTRd0fQ",
        "outputId": "287a6fa2-df71-40b5-d8ed-ef9376270b6f"
      },
      "execution_count": null,
      "outputs": [
        {
          "output_type": "stream",
          "name": "stdout",
          "text": [
            "apple\n",
            "orange\n",
            "ball\n",
            "bat\n",
            "rat\n"
          ]
        }
      ]
    },
    {
      "cell_type": "code",
      "source": [
        "#\n",
        "\n",
        "i=0\n",
        "while i< len(listb):\n",
        "  print(listb[i])\n",
        "  i+=1"
      ],
      "metadata": {
        "colab": {
          "base_uri": "https://localhost:8080/"
        },
        "id": "DNK2xoNgecCS",
        "outputId": "83ca1cbc-7eb8-4032-cefe-c0bea2f794e8"
      },
      "execution_count": null,
      "outputs": [
        {
          "output_type": "stream",
          "name": "stdout",
          "text": [
            "apple\n",
            "orange\n",
            "ball\n",
            "bat\n",
            "rat\n"
          ]
        }
      ]
    },
    {
      "cell_type": "code",
      "source": [
        "# linked list"
      ],
      "metadata": {
        "id": "ZHHpOlpFIGt1"
      },
      "execution_count": null,
      "outputs": []
    },
    {
      "cell_type": "code",
      "source": [],
      "metadata": {
        "id": "s1CtnQxge7LZ"
      },
      "execution_count": null,
      "outputs": []
    }
  ]
}