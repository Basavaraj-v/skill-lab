{
  "nbformat": 4,
  "nbformat_minor": 0,
  "metadata": {
    "colab": {
      "provenance": [],
      "authorship_tag": "ABX9TyOwUjqzJ+Dzts25dxkDfDVH",
      "include_colab_link": true
    },
    "kernelspec": {
      "name": "python3",
      "display_name": "Python 3"
    },
    "language_info": {
      "name": "python"
    }
  },
  "cells": [
    {
      "cell_type": "markdown",
      "metadata": {
        "id": "view-in-github",
        "colab_type": "text"
      },
      "source": [
        "<a href=\"https://colab.research.google.com/github/Abhilash-K-R/skill_lab/blob/main/03dayinlab.ipynb\" target=\"_parent\"><img src=\"https://colab.research.google.com/assets/colab-badge.svg\" alt=\"Open In Colab\"/></a>"
      ]
    },
    {
      "cell_type": "markdown",
      "source": [
        "# Tuples"
      ],
      "metadata": {
        "id": "TAzaP_wlMhBk"
      }
    },
    {
      "cell_type": "code",
      "execution_count": null,
      "metadata": {
        "colab": {
          "base_uri": "https://localhost:8080/"
        },
        "id": "LCGhcORvDrWw",
        "outputId": "e0e4bc84-a1c2-410a-b2aa-bd2ddbc41455"
      },
      "outputs": [
        {
          "output_type": "stream",
          "name": "stdout",
          "text": [
            "('apple', 'banana', 'cherry')\n",
            "('apple', 'banana', 'cherry', 'apple', 'cherry')\n",
            "5\n"
          ]
        }
      ],
      "source": [
        "# tuples : Ordered , Unchangable , allows duplicate values\n",
        "\n",
        "tuplea = (\"apple\", \"banana\", \"cherry\")\n",
        "print(tuplea)\n",
        "\n",
        "# allows duplicate values\n",
        "tuplea = (\"apple\", \"banana\", \"cherry\",\"apple\",\"cherry\")\n",
        "print(tuplea)\n",
        "\n",
        "# findung the length of the tuples\n",
        "print(len(tuplea))"
      ]
    },
    {
      "cell_type": "code",
      "source": [
        "# tuple with single element\n",
        "tupleb=(\"apple\",)\n",
        "print(tupleb)"
      ],
      "metadata": {
        "colab": {
          "base_uri": "https://localhost:8080/"
        },
        "id": "ZTXUNKHiORVe",
        "outputId": "141d8c39-560c-4888-95dc-52f55b147394"
      },
      "execution_count": null,
      "outputs": [
        {
          "output_type": "stream",
          "name": "stdout",
          "text": [
            "('apple',)\n"
          ]
        }
      ]
    },
    {
      "cell_type": "code",
      "source": [
        "# check the type of the tuple\n",
        "\n",
        "print(type(tupleb))"
      ],
      "metadata": {
        "colab": {
          "base_uri": "https://localhost:8080/"
        },
        "id": "V4GRsJp8PmZi",
        "outputId": "fd6e7bed-cdc2-46df-d0f5-4ce106b3f149"
      },
      "execution_count": null,
      "outputs": [
        {
          "output_type": "stream",
          "name": "stdout",
          "text": [
            "<class 'tuple'>\n"
          ]
        }
      ]
    },
    {
      "cell_type": "code",
      "source": [
        "# finding element with index value\n",
        "\n",
        "tuplea = (\"apple\", \"banana\", \"cherry\")\n",
        "print(tuplea[1])"
      ],
      "metadata": {
        "colab": {
          "base_uri": "https://localhost:8080/"
        },
        "id": "L8c1o7UmPud2",
        "outputId": "d581f99b-d9f1-49be-ee5f-bc32902028ae"
      },
      "execution_count": null,
      "outputs": [
        {
          "output_type": "stream",
          "name": "stdout",
          "text": [
            "banana\n"
          ]
        }
      ]
    },
    {
      "cell_type": "code",
      "source": [
        "# adding one tuple with an another tuple\n",
        "\n",
        "tuplea = (\"apple\", \"banana\", \"cherry\")\n",
        "tupleb = (\"orange\",)\n",
        "tuplea+=tupleb\n",
        "print(tuplea)"
      ],
      "metadata": {
        "colab": {
          "base_uri": "https://localhost:8080/"
        },
        "id": "55kyGYJHQYkF",
        "outputId": "214e8bf8-2bc8-4fc0-eda1-5de94b5df6e0"
      },
      "execution_count": null,
      "outputs": [
        {
          "output_type": "stream",
          "name": "stdout",
          "text": [
            "('apple', 'banana', 'cherry', 'orange')\n"
          ]
        }
      ]
    },
    {
      "cell_type": "code",
      "source": [
        "# converting the tuple into a list and remove apple\n",
        "\n",
        "tuplea = (\"apple\", \"banana\", \"cherry\")\n",
        "print(tuplea)\n",
        "y = list(tuplea)\n",
        "print(y)\n",
        "y.remove(\"apple\")\n",
        "print(y)\n",
        "tuplea = tuple(y)\n",
        "print(tuplea)"
      ],
      "metadata": {
        "colab": {
          "base_uri": "https://localhost:8080/"
        },
        "id": "khQ6kEOXYDsh",
        "outputId": "85c72269-6028-4cc7-e4b3-0eb7438aef47"
      },
      "execution_count": null,
      "outputs": [
        {
          "output_type": "stream",
          "name": "stdout",
          "text": [
            "('apple', 'banana', 'cherry')\n",
            "['apple', 'banana', 'cherry']\n",
            "['banana', 'cherry']\n",
            "('banana', 'cherry')\n"
          ]
        }
      ]
    },
    {
      "cell_type": "code",
      "source": [
        "# using the del keyword , through which we can delete the entire tuple\n",
        "\n",
        "tuplea = (\"apple\", \"banana\", \"cherry\")\n",
        "del tuplea\n",
        "print(tuplea)"
      ],
      "metadata": {
        "colab": {
          "base_uri": "https://localhost:8080/",
          "height": 196
        },
        "id": "-sP2TSS4ZQrP",
        "outputId": "a6382720-335d-49a6-da8a-4e66406d9764"
      },
      "execution_count": null,
      "outputs": [
        {
          "output_type": "error",
          "ename": "NameError",
          "evalue": "name 'tuplea' is not defined",
          "traceback": [
            "\u001b[0;31m---------------------------------------------------------------------------\u001b[0m",
            "\u001b[0;31mNameError\u001b[0m                                 Traceback (most recent call last)",
            "\u001b[0;32m<ipython-input-27-54a054cfe2c3>\u001b[0m in \u001b[0;36m<cell line: 5>\u001b[0;34m()\u001b[0m\n\u001b[1;32m      3\u001b[0m \u001b[0mtuplea\u001b[0m \u001b[0;34m=\u001b[0m \u001b[0;34m(\u001b[0m\u001b[0;34m\"apple\"\u001b[0m\u001b[0;34m,\u001b[0m \u001b[0;34m\"banana\"\u001b[0m\u001b[0;34m,\u001b[0m \u001b[0;34m\"cherry\"\u001b[0m\u001b[0;34m)\u001b[0m\u001b[0;34m\u001b[0m\u001b[0;34m\u001b[0m\u001b[0m\n\u001b[1;32m      4\u001b[0m \u001b[0;32mdel\u001b[0m \u001b[0mtuplea\u001b[0m\u001b[0;34m\u001b[0m\u001b[0;34m\u001b[0m\u001b[0m\n\u001b[0;32m----> 5\u001b[0;31m \u001b[0mprint\u001b[0m\u001b[0;34m(\u001b[0m\u001b[0mtuplea\u001b[0m\u001b[0;34m)\u001b[0m\u001b[0;34m\u001b[0m\u001b[0;34m\u001b[0m\u001b[0m\n\u001b[0m",
            "\u001b[0;31mNameError\u001b[0m: name 'tuplea' is not defined"
          ]
        }
      ]
    },
    {
      "cell_type": "markdown",
      "source": [
        "# * looping in a tuple\n"
      ],
      "metadata": {
        "id": "hKtPji1KaR1A"
      }
    },
    {
      "cell_type": "code",
      "source": [
        "# for loop\n",
        "\n",
        "tuplea= (\"apple\",\"banana\",\"cherry\")\n",
        "for i in tuplea:\n",
        "  print(i)\n"
      ],
      "metadata": {
        "colab": {
          "base_uri": "https://localhost:8080/"
        },
        "id": "jlejDBPsZ3Jy",
        "outputId": "670a68c8-8f1c-452b-f519-3ff44b538258"
      },
      "execution_count": null,
      "outputs": [
        {
          "output_type": "stream",
          "name": "stdout",
          "text": [
            "apple\n",
            "banana\n",
            "cherry\n"
          ]
        }
      ]
    },
    {
      "cell_type": "code",
      "source": [
        "# while loop\n",
        "\n",
        "tuplea= (\"apple\",\"banana\",\"cherry\")\n",
        "i=0\n",
        "while i<len(tuplea):\n",
        "  print(tuplea[i])\n",
        "  i+=1"
      ],
      "metadata": {
        "colab": {
          "base_uri": "https://localhost:8080/"
        },
        "id": "fh4IYOnGabgT",
        "outputId": "08223082-09ca-45a7-c423-ac0b75053c63"
      },
      "execution_count": null,
      "outputs": [
        {
          "output_type": "stream",
          "name": "stdout",
          "text": [
            "apple\n",
            "banana\n",
            "cherry\n"
          ]
        }
      ]
    },
    {
      "cell_type": "code",
      "source": [
        "# concatinating two tuples in another\n",
        "\n",
        "tuple1=(\"a\",\"b\",\"c\")\n",
        "tuple2=(1,2,3)\n",
        "\n",
        "tuple3=tuple1+tuple2\n",
        "print(tuple3)"
      ],
      "metadata": {
        "colab": {
          "base_uri": "https://localhost:8080/"
        },
        "id": "UNh0WvOca69_",
        "outputId": "b85555ef-7553-4a12-d922-a837c8800fed"
      },
      "execution_count": null,
      "outputs": [
        {
          "output_type": "stream",
          "name": "stdout",
          "text": [
            "('a', 'b', 'c', 1, 2, 3)\n"
          ]
        }
      ]
    },
    {
      "cell_type": "code",
      "source": [
        "# multiplaying tuples\n",
        "\n",
        "tuple1=(\"a\",\"b\",\"c\")\n",
        "tuple2=tuple1*2\n",
        "\n",
        "print(tuple2)"
      ],
      "metadata": {
        "colab": {
          "base_uri": "https://localhost:8080/"
        },
        "outputId": "6925e8e6-89ec-4c80-c7d8-b8536b21a0d4",
        "id": "U8LsVHt4beIl"
      },
      "execution_count": null,
      "outputs": [
        {
          "output_type": "stream",
          "name": "stdout",
          "text": [
            "('a', 'b', 'c', 'a', 'b', 'c')\n"
          ]
        }
      ]
    },
    {
      "cell_type": "markdown",
      "source": [
        "# sets"
      ],
      "metadata": {
        "id": "4RSZB0Fxithx"
      }
    },
    {
      "cell_type": "code",
      "source": [
        "# python sets\n",
        "\n",
        "seta={\"apple\",\"banana\",\"cherry\"}\n",
        "print(seta)\n",
        "\n",
        "# sets: duplicate values in a set will be ignored\n",
        "\n",
        "seta={\"apple\",\"banana\",\"cherry\",\"apple\"}\n",
        "print(seta)\n"
      ],
      "metadata": {
        "id": "bWW_eTEPblxd",
        "colab": {
          "base_uri": "https://localhost:8080/"
        },
        "outputId": "cce5ceed-0436-4243-9b72-ed33c92a9fe8"
      },
      "execution_count": null,
      "outputs": [
        {
          "output_type": "stream",
          "name": "stdout",
          "text": [
            "{'banana', 'cherry', 'apple'}\n",
            "{'banana', 'cherry', 'apple'}\n"
          ]
        }
      ]
    },
    {
      "cell_type": "code",
      "source": [
        "# lengths of a set\n",
        "\n",
        "seta={\"apple\",\"banana\",\"cherry\",\"apple\",\"banana\"}\n",
        "print(len(seta))"
      ],
      "metadata": {
        "colab": {
          "base_uri": "https://localhost:8080/"
        },
        "id": "FwtUuVLIi3dR",
        "outputId": "de47f208-e30b-41a9-ede2-d849a1f9cc62"
      },
      "execution_count": null,
      "outputs": [
        {
          "output_type": "stream",
          "name": "stdout",
          "text": [
            "3\n"
          ]
        }
      ]
    },
    {
      "cell_type": "code",
      "source": [
        "# looping through the set\n",
        "\n",
        "seta={\"apple\",\"banana\",\"cherry\",\"apple\",\"banana\"}\n",
        "for i in seta:\n",
        "  print(i)"
      ],
      "metadata": {
        "colab": {
          "base_uri": "https://localhost:8080/"
        },
        "id": "HsX9VLtMjtd9",
        "outputId": "9c19d7ec-0ad8-4321-fa24-ae76283dec43"
      },
      "execution_count": null,
      "outputs": [
        {
          "output_type": "stream",
          "name": "stdout",
          "text": [
            "banana\n",
            "cherry\n",
            "apple\n"
          ]
        }
      ]
    },
    {
      "cell_type": "code",
      "source": [
        "# checking weather a particular value exists in a set or not\n",
        "\n",
        "seta={\"apple\",\"banana\",\"cherry\",\"apple\",\"banana\"}\n",
        "\n",
        "print(\"banana\" in seta)\n",
        "\n",
        "print(\"banana\" not in seta)"
      ],
      "metadata": {
        "colab": {
          "base_uri": "https://localhost:8080/"
        },
        "id": "xiHZPbthkVgv",
        "outputId": "6497dfa9-b73e-4b1f-a9ce-282fc0b979c7"
      },
      "execution_count": null,
      "outputs": [
        {
          "output_type": "stream",
          "name": "stdout",
          "text": [
            "True\n",
            "False\n"
          ]
        }
      ]
    },
    {
      "cell_type": "code",
      "source": [
        "#adding an item to the set\n",
        "\n",
        "seta={\"apple\",\"banana\",\"cherry\",\"apple\",\"banana\"}\n",
        "seta.add(\"orange\")\n",
        "print(seta)"
      ],
      "metadata": {
        "colab": {
          "base_uri": "https://localhost:8080/"
        },
        "id": "fWOI9n5LlGa7",
        "outputId": "81ae6477-bb29-4868-cbfd-63fb1b35733f"
      },
      "execution_count": null,
      "outputs": [
        {
          "output_type": "stream",
          "name": "stdout",
          "text": [
            "{'orange', 'banana', 'cherry', 'apple'}\n"
          ]
        }
      ]
    },
    {
      "cell_type": "code",
      "source": [
        "# adding elements from one set to another set  (update,union,)\n",
        "seta = {\"apple\",\"banana\",\"cherry\"}\n",
        "setb={\"pinaple\",\"papaya\",\"grapes\"}\n",
        "\n",
        "seta.update(setb)\n",
        "print(seta)\n",
        "\n",
        "# dor operator\n",
        "set3 = seta | setb\n",
        "print(set3)"
      ],
      "metadata": {
        "colab": {
          "base_uri": "https://localhost:8080/"
        },
        "id": "2yKHeQfYnnh0",
        "outputId": "d60cde76-d5ee-400f-c00d-051f460dcba8"
      },
      "execution_count": 4,
      "outputs": [
        {
          "output_type": "stream",
          "name": "stdout",
          "text": [
            "{'papaya', 'banana', 'cherry', 'pinaple', 'grapes', 'apple'}\n",
            "{'papaya', 'banana', 'cherry', 'apple', 'pinaple', 'grapes'}\n"
          ]
        }
      ]
    },
    {
      "cell_type": "code",
      "source": [
        "# removing particular element from a set\n",
        "\n",
        "seta.remove(\"banana\")\n",
        "print(seta)"
      ],
      "metadata": {
        "colab": {
          "base_uri": "https://localhost:8080/"
        },
        "id": "C6KBHcKDoWHe",
        "outputId": "b98d9692-dc88-40ec-d103-169266f0823e"
      },
      "execution_count": null,
      "outputs": [
        {
          "output_type": "stream",
          "name": "stdout",
          "text": [
            "{'pinaple', 'grapes', 'apple', 'papaya', 'cherry'}\n"
          ]
        }
      ]
    },
    {
      "cell_type": "code",
      "source": [
        "# using the clear method to empty the set\n",
        "\n",
        "seta.clear()\n",
        "print(seta)"
      ],
      "metadata": {
        "colab": {
          "base_uri": "https://localhost:8080/"
        },
        "id": "Oqdwk7pXpRr5",
        "outputId": "039d9110-313b-4d1b-d2cc-4e56811efd38"
      },
      "execution_count": null,
      "outputs": [
        {
          "output_type": "stream",
          "name": "stdout",
          "text": [
            "set()\n"
          ]
        }
      ]
    },
    {
      "cell_type": "code",
      "source": [
        "# using the del keyword to delete the entier the set\n",
        "\n",
        "seta = {\"apple\",\"banana\",\"cherry\"}\n",
        "del seta\n",
        "print(seta)"
      ],
      "metadata": {
        "colab": {
          "base_uri": "https://localhost:8080/",
          "height": 196
        },
        "id": "lv9Lke0Qpy8w",
        "outputId": "266582ae-83af-4c4c-99ba-fb04522a6eed"
      },
      "execution_count": null,
      "outputs": [
        {
          "output_type": "error",
          "ename": "NameError",
          "evalue": "name 'seta' is not defined",
          "traceback": [
            "\u001b[0;31m---------------------------------------------------------------------------\u001b[0m",
            "\u001b[0;31mNameError\u001b[0m                                 Traceback (most recent call last)",
            "\u001b[0;32m<ipython-input-51-744c5f7e0cb5>\u001b[0m in \u001b[0;36m<cell line: 5>\u001b[0;34m()\u001b[0m\n\u001b[1;32m      3\u001b[0m \u001b[0mseta\u001b[0m \u001b[0;34m=\u001b[0m \u001b[0;34m{\u001b[0m\u001b[0;34m\"apple\"\u001b[0m\u001b[0;34m,\u001b[0m\u001b[0;34m\"banana\"\u001b[0m\u001b[0;34m,\u001b[0m\u001b[0;34m\"cherry\"\u001b[0m\u001b[0;34m}\u001b[0m\u001b[0;34m\u001b[0m\u001b[0;34m\u001b[0m\u001b[0m\n\u001b[1;32m      4\u001b[0m \u001b[0;32mdel\u001b[0m \u001b[0mseta\u001b[0m\u001b[0;34m\u001b[0m\u001b[0;34m\u001b[0m\u001b[0m\n\u001b[0;32m----> 5\u001b[0;31m \u001b[0mprint\u001b[0m\u001b[0;34m(\u001b[0m\u001b[0mseta\u001b[0m\u001b[0;34m)\u001b[0m\u001b[0;34m\u001b[0m\u001b[0;34m\u001b[0m\u001b[0m\n\u001b[0m",
            "\u001b[0;31mNameError\u001b[0m: name 'seta' is not defined"
          ]
        }
      ]
    },
    {
      "cell_type": "code",
      "source": [
        "#joining of two sets\n",
        "\n",
        "set1={\"a\",\"b\",\"c\"}\n",
        "set2={1,2,3}\n",
        "set3=set1.union(set2)\n",
        "print(set3)"
      ],
      "metadata": {
        "colab": {
          "base_uri": "https://localhost:8080/"
        },
        "id": "wd6efhlrrkKj",
        "outputId": "fe132418-6a8b-4fd8-8a16-8018b222bda2"
      },
      "execution_count": null,
      "outputs": [
        {
          "output_type": "stream",
          "name": "stdout",
          "text": [
            "{'c', 1, 'a', 'b', 2, 3}\n"
          ]
        }
      ]
    },
    {
      "cell_type": "code",
      "source": [
        "# using the update method to insert values from one set to another\n",
        "\n",
        "set1= {\"a\",\"b\",\"c\"}\n",
        "set2= {1,2,3}\n",
        "set1.update(set2)\n",
        "print(set1)"
      ],
      "metadata": {
        "colab": {
          "base_uri": "https://localhost:8080/"
        },
        "id": "Pm4sFjyguA7L",
        "outputId": "e285c401-da67-40aa-fab2-ab3add589b90"
      },
      "execution_count": null,
      "outputs": [
        {
          "output_type": "stream",
          "name": "stdout",
          "text": [
            "{'c', 1, 'a', 'b', 2, 3}\n"
          ]
        }
      ]
    },
    {
      "cell_type": "code",
      "source": [
        "#  intersection of two sets (common in two sets)\n",
        "\n",
        "set1={1,2,3,4}\n",
        "set2={1,5,4}\n",
        "\n",
        "set3=set1.intersection(set2)\n",
        "print(set3)"
      ],
      "metadata": {
        "colab": {
          "base_uri": "https://localhost:8080/"
        },
        "id": "bhlwAGIrvQyu",
        "outputId": "51318f74-a6ef-4366-ca10-287f4c10c4d2"
      },
      "execution_count": null,
      "outputs": [
        {
          "output_type": "stream",
          "name": "stdout",
          "text": [
            "{1, 4}\n"
          ]
        }
      ]
    },
    {
      "cell_type": "code",
      "source": [
        "# keeping all the elements from set 1 that are not there in set 2\n",
        "\n",
        "set1={1,2,7,4,5,3}\n",
        "set2={1,2,3,}\n",
        "\n",
        "set3=set1.difference(set2)\n",
        "print(set3)"
      ],
      "metadata": {
        "colab": {
          "base_uri": "https://localhost:8080/"
        },
        "id": "lAKLZWJyvyMv",
        "outputId": "fd5ba4ec-c616-4e04-8b35-01129573b0b0"
      },
      "execution_count": null,
      "outputs": [
        {
          "output_type": "stream",
          "name": "stdout",
          "text": [
            "{4, 5, 7}\n"
          ]
        }
      ]
    },
    {
      "cell_type": "code",
      "source": [
        "# we use the 'difference_update' method to keep the items that are not present in both the sets\n",
        "\n",
        "set1={\"apple\",\"banana\",\"cherry\"}\n",
        "set2={\"google\",\"microsoft\",\"apple\"}\n",
        "\n",
        "set1.difference_update(set2)\n",
        "print(set1)"
      ],
      "metadata": {
        "colab": {
          "base_uri": "https://localhost:8080/"
        },
        "id": "Ktxai-NGyDMp",
        "outputId": "6e422fe0-af6f-495e-b220-c0ea38c0b799"
      },
      "execution_count": null,
      "outputs": [
        {
          "output_type": "stream",
          "name": "stdout",
          "text": [
            "{'banana', 'cherry'}\n"
          ]
        }
      ]
    },
    {
      "cell_type": "markdown",
      "source": [
        "# Rock paper Scissors Game"
      ],
      "metadata": {
        "id": "xcPxgKrPzb6E"
      }
    },
    {
      "cell_type": "code",
      "source": [
        "import random\n",
        "\n",
        "def get_computer_choice():\n",
        "    choices = [\"rock\", \"paper\", \"scissors\"]\n",
        "    return random.choice(choices)\n",
        "\n",
        "def get_user_choice():\n",
        "  user_choice = input(\"Enter rock,paper,scissor: \").lower()\n",
        "  while user_choice not in [\"rock\",\"paper\",\"scissor\"]:\n",
        "    print(\"Invalid Choice! Please do enter the choice again\")\n",
        "    user_choice = input(\"Enter rock,paper,scissor: \").lower()\n",
        "  return user_choice\n",
        "\n",
        "def determine_winner(user_choice,computer_choice):\n",
        "  if user_choice == computer_choice:\n",
        "    return \"its a tie \"\n",
        "  if (user_choice == \"rock\" and computer_choice == \"scissor\") or \\\n",
        "     (user_choice == \"scissor\" and computer_choice == \"paper\") or \\\n",
        "     (user_choice == \"paper\" and computer_choice == \"rock\"):\n",
        "     return \"You will be Win..\"\n",
        "  return \"computer will be Win..\"\n",
        "\n",
        "def play_game():\n",
        "  print(\"Welcome to the ROCK PAPER SCISSOR GAME \")\n",
        "  user_choice = get_user_choice()\n",
        "  computer_choice = get_computer_choice()\n",
        "\n",
        "  print(f\"You chose: {user_choice}\")\n",
        "  print(f\"Computer choice: {computer_choice}\")\n",
        "\n",
        "  result = determine_winner(user_choice,computer_choice)\n",
        "  print(result)\n",
        "\n",
        "play_game()"
      ],
      "metadata": {
        "id": "3qgxqe8Ry4pq",
        "colab": {
          "base_uri": "https://localhost:8080/"
        },
        "outputId": "3339ea1c-a857-4cf2-8d92-37d891d78104"
      },
      "execution_count": null,
      "outputs": [
        {
          "output_type": "stream",
          "name": "stdout",
          "text": [
            "Welcome to the ROCK PAPER SCISSOR GAME \n",
            "Enter rock,paper,scissor: paper\n",
            "You chose: paper\n",
            "Computer choice: scissors\n",
            "computer will be Win..\n"
          ]
        }
      ]
    },
    {
      "cell_type": "code",
      "source": [
        "import random\n",
        "\n",
        "def get_computer_choice():\n",
        "    choices = [\"rock\", \"paper\", \"scissors\"]\n",
        "    return random.choice(choices)\n",
        "\n",
        "def get_user_choice():\n",
        "    user_choice = input(\"Enter rock, paper, or scissors: \").lower()\n",
        "    while user_choice not in [\"rock\", \"paper\", \"scissors\"]:\n",
        "        print(\"Invalid choice! Please enter rock, paper, or scissors.\")\n",
        "        user_choice = input(\"Enter rock, paper, or scissors: \").lower()\n",
        "    return user_choice\n",
        "\n",
        "def determine_winner(user_choice, computer_choice):\n",
        "    if user_choice == computer_choice:\n",
        "        return \"It's a tie!\"\n",
        "    if (user_choice == \"rock\" and computer_choice == \"scissors\") or \\\n",
        "       (user_choice == \"scissors\" and computer_choice == \"paper\") or \\\n",
        "       (user_choice == \"paper\" and computer_choice == \"rock\"):\n",
        "        return \"You win!\"\n",
        "    return \"Computer wins!\"\n",
        "\n",
        "def play_game():\n",
        "    print(\"Welcome to the Rock, Paper, Scissors game!\")\n",
        "    user_choice = get_user_choice()\n",
        "    computer_choice = get_computer_choice()\n",
        "\n",
        "    print(f\"You chose: {user_choice}\")\n",
        "    print(f\"Computer chose: {computer_choice}\")\n",
        "\n",
        "    result = determine_winner(user_choice, computer_choice)\n",
        "    print(result)\n",
        "\n",
        "for i in range(5):\n",
        "    play_game()\n",
        "    print(\"\\n\")\n"
      ],
      "metadata": {
        "colab": {
          "base_uri": "https://localhost:8080/"
        },
        "id": "tKr4TrwyQchB",
        "outputId": "85724ae0-c11f-4479-d5b6-20201995b78e"
      },
      "execution_count": null,
      "outputs": [
        {
          "output_type": "stream",
          "name": "stdout",
          "text": [
            "Welcome to the Rock, Paper, Scissors game!\n",
            "You chose: rock\n",
            "Computer chose: paper\n",
            "Computer wins!\n",
            "\n",
            "\n",
            "Welcome to the Rock, Paper, Scissors game!\n",
            "You chose: rock\n",
            "Computer chose: scissors\n",
            "You win!\n",
            "\n",
            "\n",
            "Welcome to the Rock, Paper, Scissors game!\n",
            "You chose: paper\n",
            "Computer chose: rock\n",
            "You win!\n",
            "\n",
            "\n",
            "Welcome to the Rock, Paper, Scissors game!\n",
            "You chose: scissors\n",
            "Computer chose: scissors\n",
            "It's a tie!\n",
            "\n",
            "\n",
            "Welcome to the Rock, Paper, Scissors game!\n",
            "Enter rock, paper, or scissors: rock\n",
            "You chose: rock\n",
            "Computer chose: paper\n",
            "Computer wins!\n",
            "\n",
            "\n"
          ]
        }
      ]
    },
    {
      "cell_type": "code",
      "source": [
        "# import random\n",
        "\n",
        "def get_computer_choice():\n",
        "    computer_choice = input(\"your friend will Enter rock, paper, or scissors: \").lower()\n",
        "    while computer_choice not in [\"rock\", \"paper\", \"scissors\"]:\n",
        "        print(\"Invalid choice! Please enter rock, paper, or scissors.\")\n",
        "        computer_choice = input(\"your friend will Enter rock, paper, or scissors: \").lower()\n",
        "    return computer_choice\n",
        "\n",
        "def get_user_choice():\n",
        "    user_choice = input(\" Enter rock, paper, or scissors: \").lower()\n",
        "    while user_choice not in [\"rock\", \"paper\", \"scissors\"]:\n",
        "        print(\"Invalid choice! Please enter rock, paper, or scissors.\")\n",
        "        user_choice = input(\"Enter rock, paper, or scissors: \").lower()\n",
        "    return user_choice\n",
        "\n",
        "def determine_winner(user_choice, computer_choice):\n",
        "    if user_choice == computer_choice:\n",
        "        return \"It's a tie!\"\n",
        "    if (user_choice == \"rock\" and computer_choice == \"scissors\") or \\\n",
        "       (user_choice == \"scissors\" and computer_choice == \"paper\") or \\\n",
        "       (user_choice == \"paper\" and computer_choice == \"rock\"):\n",
        "        return \"You win!\"\n",
        "    return \"your friend Win!\"\n",
        "\n",
        "def play_game():\n",
        "    print(\"Welcome to the Rock, Paper, Scissors game!\")\n",
        "    user_choice = get_user_choice()\n",
        "    computer_choice = get_computer_choice()\n",
        "\n",
        "    print(f\"You chose: {user_choice}\")\n",
        "    print(f\"your friend chose: {computer_choice}\")\n",
        "\n",
        "    result = determine_winner(user_choice, computer_choice)\n",
        "    print(result)\n",
        "\n",
        "for i in range(5):\n",
        "    play_game()\n",
        "    print(\"\\n\")\n"
      ],
      "metadata": {
        "colab": {
          "base_uri": "https://localhost:8080/",
          "height": 634
        },
        "id": "_YuY8ZXvNyWM",
        "outputId": "e7093516-e609-45a0-ce41-4474305b60d6"
      },
      "execution_count": 2,
      "outputs": [
        {
          "output_type": "stream",
          "name": "stdout",
          "text": [
            "Welcome to the Rock, Paper, Scissors game!\n",
            "Enter rock, paper, or scissors: rock\n",
            "your friend will Enter rock, paper, or scissors: scissors\n",
            "You chose: rock\n",
            "your friend chose: scissors\n",
            "You win!\n",
            "\n",
            "\n",
            "Welcome to the Rock, Paper, Scissors game!\n",
            "Enter rock, paper, or scissors: rock\n",
            "your friend will Enter rock, paper, or scissors: rock\n",
            "You chose: rock\n",
            "your friend chose: rock\n",
            "It's a tie!\n",
            "\n",
            "\n",
            "Welcome to the Rock, Paper, Scissors game!\n"
          ]
        },
        {
          "output_type": "error",
          "ename": "KeyboardInterrupt",
          "evalue": "Interrupted by user",
          "traceback": [
            "\u001b[0;31m---------------------------------------------------------------------------\u001b[0m",
            "\u001b[0;31mKeyboardInterrupt\u001b[0m                         Traceback (most recent call last)",
            "\u001b[0;32m<ipython-input-2-26bf8955f260>\u001b[0m in \u001b[0;36m<cell line: 37>\u001b[0;34m()\u001b[0m\n\u001b[1;32m     36\u001b[0m \u001b[0;34m\u001b[0m\u001b[0m\n\u001b[1;32m     37\u001b[0m \u001b[0;32mfor\u001b[0m \u001b[0mi\u001b[0m \u001b[0;32min\u001b[0m \u001b[0mrange\u001b[0m\u001b[0;34m(\u001b[0m\u001b[0;36m5\u001b[0m\u001b[0;34m)\u001b[0m\u001b[0;34m:\u001b[0m\u001b[0;34m\u001b[0m\u001b[0;34m\u001b[0m\u001b[0m\n\u001b[0;32m---> 38\u001b[0;31m     \u001b[0mplay_game\u001b[0m\u001b[0;34m(\u001b[0m\u001b[0;34m)\u001b[0m\u001b[0;34m\u001b[0m\u001b[0;34m\u001b[0m\u001b[0m\n\u001b[0m\u001b[1;32m     39\u001b[0m     \u001b[0mprint\u001b[0m\u001b[0;34m(\u001b[0m\u001b[0;34m\"\\n\"\u001b[0m\u001b[0;34m)\u001b[0m\u001b[0;34m\u001b[0m\u001b[0;34m\u001b[0m\u001b[0m\n",
            "\u001b[0;32m<ipython-input-2-26bf8955f260>\u001b[0m in \u001b[0;36mplay_game\u001b[0;34m()\u001b[0m\n\u001b[1;32m     26\u001b[0m \u001b[0;32mdef\u001b[0m \u001b[0mplay_game\u001b[0m\u001b[0;34m(\u001b[0m\u001b[0;34m)\u001b[0m\u001b[0;34m:\u001b[0m\u001b[0;34m\u001b[0m\u001b[0;34m\u001b[0m\u001b[0m\n\u001b[1;32m     27\u001b[0m     \u001b[0mprint\u001b[0m\u001b[0;34m(\u001b[0m\u001b[0;34m\"Welcome to the Rock, Paper, Scissors game!\"\u001b[0m\u001b[0;34m)\u001b[0m\u001b[0;34m\u001b[0m\u001b[0;34m\u001b[0m\u001b[0m\n\u001b[0;32m---> 28\u001b[0;31m     \u001b[0muser_choice\u001b[0m \u001b[0;34m=\u001b[0m \u001b[0mget_user_choice\u001b[0m\u001b[0;34m(\u001b[0m\u001b[0;34m)\u001b[0m\u001b[0;34m\u001b[0m\u001b[0;34m\u001b[0m\u001b[0m\n\u001b[0m\u001b[1;32m     29\u001b[0m     \u001b[0mcomputer_choice\u001b[0m \u001b[0;34m=\u001b[0m \u001b[0mget_computer_choice\u001b[0m\u001b[0;34m(\u001b[0m\u001b[0;34m)\u001b[0m\u001b[0;34m\u001b[0m\u001b[0;34m\u001b[0m\u001b[0m\n\u001b[1;32m     30\u001b[0m \u001b[0;34m\u001b[0m\u001b[0m\n",
            "\u001b[0;32m<ipython-input-2-26bf8955f260>\u001b[0m in \u001b[0;36mget_user_choice\u001b[0;34m()\u001b[0m\n\u001b[1;32m      9\u001b[0m \u001b[0;34m\u001b[0m\u001b[0m\n\u001b[1;32m     10\u001b[0m \u001b[0;32mdef\u001b[0m \u001b[0mget_user_choice\u001b[0m\u001b[0;34m(\u001b[0m\u001b[0;34m)\u001b[0m\u001b[0;34m:\u001b[0m\u001b[0;34m\u001b[0m\u001b[0;34m\u001b[0m\u001b[0m\n\u001b[0;32m---> 11\u001b[0;31m     \u001b[0muser_choice\u001b[0m \u001b[0;34m=\u001b[0m \u001b[0minput\u001b[0m\u001b[0;34m(\u001b[0m\u001b[0;34m\"Enter rock, paper, or scissors: \"\u001b[0m\u001b[0;34m)\u001b[0m\u001b[0;34m.\u001b[0m\u001b[0mlower\u001b[0m\u001b[0;34m(\u001b[0m\u001b[0;34m)\u001b[0m\u001b[0;34m\u001b[0m\u001b[0;34m\u001b[0m\u001b[0m\n\u001b[0m\u001b[1;32m     12\u001b[0m     \u001b[0;32mwhile\u001b[0m \u001b[0muser_choice\u001b[0m \u001b[0;32mnot\u001b[0m \u001b[0;32min\u001b[0m \u001b[0;34m[\u001b[0m\u001b[0;34m\"rock\"\u001b[0m\u001b[0;34m,\u001b[0m \u001b[0;34m\"paper\"\u001b[0m\u001b[0;34m,\u001b[0m \u001b[0;34m\"scissors\"\u001b[0m\u001b[0;34m]\u001b[0m\u001b[0;34m:\u001b[0m\u001b[0;34m\u001b[0m\u001b[0;34m\u001b[0m\u001b[0m\n\u001b[1;32m     13\u001b[0m         \u001b[0mprint\u001b[0m\u001b[0;34m(\u001b[0m\u001b[0;34m\"Invalid choice! Please enter rock, paper, or scissors.\"\u001b[0m\u001b[0;34m)\u001b[0m\u001b[0;34m\u001b[0m\u001b[0;34m\u001b[0m\u001b[0m\n",
            "\u001b[0;32m/usr/local/lib/python3.10/dist-packages/ipykernel/kernelbase.py\u001b[0m in \u001b[0;36mraw_input\u001b[0;34m(self, prompt)\u001b[0m\n\u001b[1;32m    849\u001b[0m                 \u001b[0;34m\"raw_input was called, but this frontend does not support input requests.\"\u001b[0m\u001b[0;34m\u001b[0m\u001b[0;34m\u001b[0m\u001b[0m\n\u001b[1;32m    850\u001b[0m             )\n\u001b[0;32m--> 851\u001b[0;31m         return self._input_request(str(prompt),\n\u001b[0m\u001b[1;32m    852\u001b[0m             \u001b[0mself\u001b[0m\u001b[0;34m.\u001b[0m\u001b[0m_parent_ident\u001b[0m\u001b[0;34m,\u001b[0m\u001b[0;34m\u001b[0m\u001b[0;34m\u001b[0m\u001b[0m\n\u001b[1;32m    853\u001b[0m             \u001b[0mself\u001b[0m\u001b[0;34m.\u001b[0m\u001b[0m_parent_header\u001b[0m\u001b[0;34m,\u001b[0m\u001b[0;34m\u001b[0m\u001b[0;34m\u001b[0m\u001b[0m\n",
            "\u001b[0;32m/usr/local/lib/python3.10/dist-packages/ipykernel/kernelbase.py\u001b[0m in \u001b[0;36m_input_request\u001b[0;34m(self, prompt, ident, parent, password)\u001b[0m\n\u001b[1;32m    893\u001b[0m             \u001b[0;32mexcept\u001b[0m \u001b[0mKeyboardInterrupt\u001b[0m\u001b[0;34m:\u001b[0m\u001b[0;34m\u001b[0m\u001b[0;34m\u001b[0m\u001b[0m\n\u001b[1;32m    894\u001b[0m                 \u001b[0;31m# re-raise KeyboardInterrupt, to truncate traceback\u001b[0m\u001b[0;34m\u001b[0m\u001b[0;34m\u001b[0m\u001b[0m\n\u001b[0;32m--> 895\u001b[0;31m                 \u001b[0;32mraise\u001b[0m \u001b[0mKeyboardInterrupt\u001b[0m\u001b[0;34m(\u001b[0m\u001b[0;34m\"Interrupted by user\"\u001b[0m\u001b[0;34m)\u001b[0m \u001b[0;32mfrom\u001b[0m \u001b[0;32mNone\u001b[0m\u001b[0;34m\u001b[0m\u001b[0;34m\u001b[0m\u001b[0m\n\u001b[0m\u001b[1;32m    896\u001b[0m             \u001b[0;32mexcept\u001b[0m \u001b[0mException\u001b[0m \u001b[0;32mas\u001b[0m \u001b[0me\u001b[0m\u001b[0;34m:\u001b[0m\u001b[0;34m\u001b[0m\u001b[0;34m\u001b[0m\u001b[0m\n\u001b[1;32m    897\u001b[0m                 \u001b[0mself\u001b[0m\u001b[0;34m.\u001b[0m\u001b[0mlog\u001b[0m\u001b[0;34m.\u001b[0m\u001b[0mwarning\u001b[0m\u001b[0;34m(\u001b[0m\u001b[0;34m\"Invalid Message:\"\u001b[0m\u001b[0;34m,\u001b[0m \u001b[0mexc_info\u001b[0m\u001b[0;34m=\u001b[0m\u001b[0;32mTrue\u001b[0m\u001b[0;34m)\u001b[0m\u001b[0;34m\u001b[0m\u001b[0;34m\u001b[0m\u001b[0m\n",
            "\u001b[0;31mKeyboardInterrupt\u001b[0m: Interrupted by user"
          ]
        }
      ]
    },
    {
      "cell_type": "markdown",
      "source": [
        "# dictionary"
      ],
      "metadata": {
        "id": "eqMYZPHFbWbH"
      }
    },
    {
      "cell_type": "code",
      "source": [
        "# dictionary : it is built in data structure which contains data in the form of key value pairs\n",
        "\n",
        "# contains data in the form of key value pairs\n",
        "# dictionaries can't have two items in a same keyvale\n",
        "# in a dictionary\n",
        "\n",
        "\n",
        "thedist = {\n",
        "    \"brand\":\"ferari\",\n",
        "    \"model\":\"termillon\",\n",
        "    \"year\":1928\n",
        "}\n",
        "print(thedist)\n",
        "\n",
        "# length of this dictionary\n",
        "print(\"\")\n",
        "print(len(thedist))\n"
      ],
      "metadata": {
        "id": "YJlex96eUhj4",
        "colab": {
          "base_uri": "https://localhost:8080/"
        },
        "outputId": "1be98c0e-5114-4127-ad8d-6d1005e14b99"
      },
      "execution_count": null,
      "outputs": [
        {
          "output_type": "stream",
          "name": "stdout",
          "text": [
            "{'brand': 'ferari', 'model': 'termillon', 'year': 1928}\n",
            "\n",
            "3\n"
          ]
        }
      ]
    },
    {
      "cell_type": "code",
      "source": [
        "# accessing items\n",
        "\n",
        "thedist = {\n",
        "    \"brand\":\"ferari\",\n",
        "    \"model\":\"termillon\",\n",
        "    \"year\":1928\n",
        "}\n",
        "x = thedist[\"brand\"]\n",
        "print(x)"
      ],
      "metadata": {
        "colab": {
          "base_uri": "https://localhost:8080/"
        },
        "id": "nUPNtHOdfBf3",
        "outputId": "e9a6e829-4c49-4f41-f203-dd92dc4dfc26"
      },
      "execution_count": null,
      "outputs": [
        {
          "output_type": "stream",
          "name": "stdout",
          "text": [
            "ferari\n"
          ]
        }
      ]
    },
    {
      "cell_type": "code",
      "source": [
        "# get keys and values\n",
        "\n",
        "x = thedist.keys()\n",
        "y = thedist.values()\n",
        "print(x)\n",
        "print(y)"
      ],
      "metadata": {
        "colab": {
          "base_uri": "https://localhost:8080/"
        },
        "id": "9bQOh_CIfyZe",
        "outputId": "bbabc483-2972-41b9-96a5-143e35ca7f03"
      },
      "execution_count": null,
      "outputs": [
        {
          "output_type": "stream",
          "name": "stdout",
          "text": [
            "dict_keys(['brand', 'model', 'year'])\n",
            "dict_values(['ferari', 'termillon', 1928])\n"
          ]
        }
      ]
    },
    {
      "cell_type": "code",
      "source": [
        "# cheek if a particular key exists or not\n",
        "\n",
        "if \"model\" in thedist:\n",
        "  print(\"yes , model is key that exists in the dictionary\")"
      ],
      "metadata": {
        "colab": {
          "base_uri": "https://localhost:8080/"
        },
        "id": "1jpz33WWgOMZ",
        "outputId": "95fd7eaf-7938-4b14-f8f1-ec24f548ef28"
      },
      "execution_count": null,
      "outputs": [
        {
          "output_type": "stream",
          "name": "stdout",
          "text": [
            "yes , model is key that exists in the dictionary\n"
          ]
        }
      ]
    },
    {
      "cell_type": "code",
      "source": [
        "# changing values\n",
        "\n",
        "thedist = {\n",
        "    \"brand\":\"ferari\",\n",
        "    \"model\":\"termillon\",\n",
        "    \"year\":1928\n",
        "}\n",
        "thedist[\"year\"]=2024\n",
        "print(thedist)"
      ],
      "metadata": {
        "colab": {
          "base_uri": "https://localhost:8080/"
        },
        "id": "V9mHj30Zg8DM",
        "outputId": "7b6b77ac-d278-4017-cacd-ee684f984143"
      },
      "execution_count": null,
      "outputs": [
        {
          "output_type": "stream",
          "name": "stdout",
          "text": [
            "{'brand': 'ferari', 'model': 'termillon', 'year': 2024}\n"
          ]
        }
      ]
    },
    {
      "cell_type": "code",
      "source": [
        "# adding items to the dictionary\n",
        "\n",
        "thedist[\"color\"]=\"red\"\n",
        "print(thedist)"
      ],
      "metadata": {
        "colab": {
          "base_uri": "https://localhost:8080/"
        },
        "id": "wzFu_Nifhd_V",
        "outputId": "cf80ca35-89fa-47be-df8a-0e099ed18a95"
      },
      "execution_count": null,
      "outputs": [
        {
          "output_type": "stream",
          "name": "stdout",
          "text": [
            "{'brand': 'ferari', 'model': 'termillon', 'year': 2024, 'color': 'red'}\n"
          ]
        }
      ]
    },
    {
      "cell_type": "code",
      "source": [
        "# using the pop method it removes an item when we specify an partcular key name\n",
        "\n",
        "thedist.pop(\"color\")\n",
        "print(thedist)"
      ],
      "metadata": {
        "colab": {
          "base_uri": "https://localhost:8080/"
        },
        "id": "X92-EcjCh9qW",
        "outputId": "c16644a8-6b92-4f34-c40f-04a8e3ce928a"
      },
      "execution_count": null,
      "outputs": [
        {
          "output_type": "stream",
          "name": "stdout",
          "text": [
            "{'brand': 'ferari', 'model': 'termillon', 'year': 2024}\n"
          ]
        }
      ]
    },
    {
      "cell_type": "code",
      "source": [
        "# clear method to the entier dictionary\n",
        "\n",
        "thedist.clear()\n",
        "print(thedist)"
      ],
      "metadata": {
        "colab": {
          "base_uri": "https://localhost:8080/"
        },
        "id": "JMNBb2mcipc2",
        "outputId": "eadbd0e5-7d9e-4ee4-f52f-250879dd8ea7"
      },
      "execution_count": null,
      "outputs": [
        {
          "output_type": "stream",
          "name": "stdout",
          "text": [
            "{}\n"
          ]
        }
      ]
    },
    {
      "cell_type": "code",
      "source": [
        "# looping in the dictionary\n",
        "\n",
        "thedist = {\n",
        "    \"brand\":\"ferari\",\n",
        "    \"model\":\"termillon\",\n",
        "    \"year\":1928\n",
        "}\n",
        "for i in thedist:\n",
        "  print(i)\n",
        "\n",
        "print(\" \")\n",
        "\n",
        "for i in thedist.values():\n",
        "  print(i)"
      ],
      "metadata": {
        "colab": {
          "base_uri": "https://localhost:8080/"
        },
        "id": "RRVLQueIjCgr",
        "outputId": "d99566f0-8d7f-4078-dba6-060b7b4af88b"
      },
      "execution_count": null,
      "outputs": [
        {
          "output_type": "stream",
          "name": "stdout",
          "text": [
            "brand\n",
            "model\n",
            "year\n",
            " \n",
            "ferari\n",
            "termillon\n",
            "1928\n"
          ]
        }
      ]
    },
    {
      "cell_type": "code",
      "source": [
        "# making copy of the existing dictionary\n",
        "\n",
        "copydict = dict(thedist)\n",
        "print(copydict)"
      ],
      "metadata": {
        "colab": {
          "base_uri": "https://localhost:8080/"
        },
        "id": "29SC9P-MkEn-",
        "outputId": "8a372683-cc4d-43ed-afcc-34465671fd59"
      },
      "execution_count": null,
      "outputs": [
        {
          "output_type": "stream",
          "name": "stdout",
          "text": [
            "{'brand': 'ferari', 'model': 'termillon', 'year': 1928}\n"
          ]
        }
      ]
    },
    {
      "cell_type": "code",
      "source": [],
      "metadata": {
        "id": "l67D648Tkbx7"
      },
      "execution_count": null,
      "outputs": []
    },
    {
      "cell_type": "code",
      "source": [
        "# popular algorithms\n",
        "# linear search\n",
        "'''\n",
        "time complexity\n",
        "  *best case\n",
        "    big theta,bigO(1)\n",
        "  *worst case\n",
        "    big O(n)\n",
        "  *average case senario\n",
        "    omega (w)\n",
        "\n",
        "space complexity\n",
        "\n",
        "binary search\n",
        "'''"
      ],
      "metadata": {
        "id": "81TDdzLikfQb"
      },
      "execution_count": null,
      "outputs": []
    }
  ]
}