{
  "nbformat": 4,
  "nbformat_minor": 0,
  "metadata": {
    "colab": {
      "provenance": [],
      "gpuType": "T4",
      "authorship_tag": "ABX9TyMFgF5Ww0WuTk5y/yaxbyNf",
      "include_colab_link": true
    },
    "kernelspec": {
      "name": "python3",
      "display_name": "Python 3"
    },
    "language_info": {
      "name": "python"
    },
    "accelerator": "GPU"
  },
  "cells": [
    {
      "cell_type": "markdown",
      "metadata": {
        "id": "view-in-github",
        "colab_type": "text"
      },
      "source": [
        "<a href=\"https://colab.research.google.com/github/Abhilash-K-R/skill_lab/blob/main/01_day_python.ipynb\" target=\"_parent\"><img src=\"https://colab.research.google.com/assets/colab-badge.svg\" alt=\"Open In Colab\"/></a>"
      ]
    },
    {
      "cell_type": "markdown",
      "source": [
        "comments in python"
      ],
      "metadata": {
        "id": "thrgPG-he5In"
      }
    },
    {
      "cell_type": "code",
      "source": [
        "# this is how we define a single line comment in python\n",
        "'''we are attending the python class\n",
        "this is the multiline comment by useing  '''\n",
        "\n",
        "print(\"Hello world\")"
      ],
      "metadata": {
        "id": "2V1GzMySX5Yy"
      },
      "execution_count": null,
      "outputs": []
    },
    {
      "cell_type": "markdown",
      "source": [
        "variables and python"
      ],
      "metadata": {
        "id": "Bt4J4kBNfIpa"
      }
    },
    {
      "cell_type": "code",
      "source": [
        "#variables in python\n",
        "x = 5\n",
        "y = 'abhi'\n",
        "print(x)\n",
        "print(y)\n",
        "\n",
        "#dynamic futuere\n",
        "x= 4\n",
        "print(x)\n",
        "\n",
        "# check the types of the variable\n",
        "print(type(x))\n",
        "print(type(y))\n",
        "\n",
        "# Multi assignment of values\n",
        "x,y,z = \"orange\",\"apple\",\"banana\"\n",
        "print(x)\n",
        "print(y)\n",
        "print(z)\n",
        "\n",
        "#assigning one values to multi variable\n",
        "x=y=z = \"orange\"\n",
        "print(x)\n",
        "print(y)\n",
        "print(z)\n",
        "\n",
        "#lists\n",
        "#unpacking of collection\n",
        "fruits=[\"apple\",\"banana\",\"cherry\"]\n",
        "x,y,z = fruits\n",
        "print(x)\n",
        "print(y)\n",
        "print(z)\n",
        "\n",
        "#global variables\n",
        "x = \"amazing\"\n",
        "\n",
        "def myfunc():\n",
        "  x = \"super\"\n",
        "  print(\"python is \"+x)\n",
        "\n",
        "myfunc()\n",
        "print(\"python is \"+x)"
      ],
      "metadata": {
        "colab": {
          "base_uri": "https://localhost:8080/"
        },
        "id": "u--n_ZkieAl5",
        "outputId": "ad9e3adb-f335-46d6-a227-17250a80c362"
      },
      "execution_count": null,
      "outputs": [
        {
          "output_type": "stream",
          "name": "stdout",
          "text": [
            "5\n",
            "abhi\n",
            "4\n",
            "<class 'int'>\n",
            "<class 'str'>\n",
            "orange\n",
            "apple\n",
            "banana\n",
            "orange\n",
            "orange\n",
            "orange\n",
            "apple\n",
            "banana\n",
            "cherry\n",
            "python is super\n",
            "python is amazing\n"
          ]
        }
      ]
    },
    {
      "cell_type": "markdown",
      "source": [
        "* data types in python\n"
      ],
      "metadata": {
        "id": "TTetRkeQ3XpQ"
      }
    },
    {
      "cell_type": "code",
      "source": [
        "# intiger\n",
        "x = 5\n",
        "print(type(x))\n",
        "\n",
        "# string\n",
        "x = \"hello siet\"\n",
        "print(type(x))\n",
        "\n",
        "# float\n",
        "x = 20.5\n",
        "print(type(x))\n",
        "\n",
        "# list\n",
        "x = [\"apple\",\"banana\",\"cherry\"]\n",
        "print(type(x))\n",
        "\n",
        "# tuple\n",
        "x = (\"apple\",\"banana\",\"cherry\")\n",
        "print(type(x))\n",
        "\n",
        "# dictionary\n",
        "x={\"name\":\"abhilash\",\"age\":24,\"phone\":\"1234567890\"}\n",
        "print(type(x))\n",
        "\n",
        "# boolean\n",
        "x=True\n",
        "print(type(x))\n",
        "\n",
        "# set\n",
        "x={\"apple\",\"banana\",\"chery\"}\n",
        "print(type(x))\n"
      ],
      "metadata": {
        "colab": {
          "base_uri": "https://localhost:8080/"
        },
        "id": "ChGiyrQA3W0k",
        "outputId": "d298d07d-dd42-4e6a-a476-a4dc51aa834b"
      },
      "execution_count": null,
      "outputs": [
        {
          "output_type": "stream",
          "name": "stdout",
          "text": [
            "<class 'int'>\n",
            "<class 'str'>\n",
            "<class 'float'>\n",
            "<class 'list'>\n",
            "<class 'tuple'>\n",
            "<class 'dict'>\n",
            "<class 'bool'>\n",
            "<class 'set'>\n"
          ]
        }
      ]
    },
    {
      "cell_type": "markdown",
      "source": [
        " * type Conversion"
      ],
      "metadata": {
        "id": "z-oArXYO82SX"
      }
    },
    {
      "cell_type": "code",
      "source": [
        "#type conversion : conversion of one data type to\n",
        "\n",
        "# int to str\n",
        "a = str(1)\n",
        "print(type(a))\n",
        "\n",
        "# int to float\n",
        "b = 10\n",
        "print(type(float(b)))\n",
        "print(float(b))\n",
        "\n",
        "# float to int\n",
        "y = 2.8\n",
        "print(int(y))\n",
        "\n",
        "y = int(2.8)\n",
        "print(y)"
      ],
      "metadata": {
        "colab": {
          "base_uri": "https://localhost:8080/"
        },
        "id": "j24jwqp_8bG9",
        "outputId": "de93279e-01b3-43ab-edcc-3f60a5a80fa3"
      },
      "execution_count": null,
      "outputs": [
        {
          "output_type": "stream",
          "name": "stdout",
          "text": [
            "<class 'str'>\n",
            "<class 'float'>\n",
            "10.0\n",
            "2\n",
            "2\n"
          ]
        }
      ]
    },
    {
      "cell_type": "markdown",
      "source": [
        "* random integer number"
      ],
      "metadata": {
        "id": "P5CFeE0yB6qF"
      }
    },
    {
      "cell_type": "code",
      "source": [
        "import random\n",
        "\n",
        "random_int = random.randint(1, 100)  # Random integer between 1 and 10\n",
        "print(random_int)\n"
      ],
      "metadata": {
        "colab": {
          "base_uri": "https://localhost:8080/"
        },
        "id": "_newmv-L-5kk",
        "outputId": "c1ce04e1-6fb4-4a29-f869-99ae67b13a77"
      },
      "execution_count": null,
      "outputs": [
        {
          "output_type": "stream",
          "name": "stdout",
          "text": [
            "58\n"
          ]
        }
      ]
    },
    {
      "cell_type": "code",
      "source": [
        "import random\n",
        "\n",
        "# Generate 10 random numbers between 1 and 100\n",
        "random_numbers = [random.randint(1, 100) for _ in range(10)]\n",
        "\n",
        "print(random_numbers)\n",
        "\n"
      ],
      "metadata": {
        "colab": {
          "base_uri": "https://localhost:8080/"
        },
        "id": "8SFnJzFU_YU2",
        "outputId": "c200ee67-851c-4c0a-eea2-76e29d7d1293"
      },
      "execution_count": null,
      "outputs": [
        {
          "output_type": "stream",
          "name": "stdout",
          "text": [
            "[38, 2, 86, 48, 68, 57, 27, 16, 33, 56]\n"
          ]
        }
      ]
    },
    {
      "cell_type": "markdown",
      "source": [
        "* guess a number from 1` to 10 user input\n",
        "match the entered number with guess number random number generated 1 to 10\n",
        "if match the guess number print congratulations\n",
        "else better luck next time"
      ],
      "metadata": {
        "id": "Zt-fFJP-A1Kp"
      }
    },
    {
      "cell_type": "code",
      "source": [
        "import random\n",
        "\n",
        "# Generate a random number between 1 and 10\n",
        "random_number = random.randint(1, 10)\n",
        "\n",
        "print(\"Guess the number between 1 and 10. You have 10 attempts.\")\n",
        "\n",
        "# Loop up to 10 times\n",
        "for attempt in range(1, 11):  # Loop from 1 to 10 (inclusive)\n",
        "    try:\n",
        "        # Prompt the user to enter their guess\n",
        "        user_guess = int(input(f\"Attempt {attempt}: Enter your guess: \"))\n",
        "\n",
        "        # Check if the user's guess is within the valid range\n",
        "        if 1 <= user_guess <= 10:\n",
        "            # Compare the user's guess with the random number\n",
        "            if user_guess == random_number:\n",
        "                print(\"Congratulations! You guessed the right number!\")\n",
        "                break  # Exit the loop if the guess is correct\n",
        "            else:\n",
        "                if attempt < 10:\n",
        "                    print(f\"Wrong guess. You have {10 - attempt} attempts left.\")\n",
        "                else:\n",
        "                    print(f\"Better luck next time. The correct number was {random_number}.\")\n",
        "        else:\n",
        "            print(\"Please enter a number between 1 and 10.\")\n",
        "    except ValueError:\n",
        "        print(\"Invalid input. Please enter a number.\")\n"
      ],
      "metadata": {
        "colab": {
          "base_uri": "https://localhost:8080/"
        },
        "id": "y6CMLqqZBMH9",
        "outputId": "c1e810dd-1dd1-4000-e2f4-ba7d1b3ace9f"
      },
      "execution_count": null,
      "outputs": [
        {
          "output_type": "stream",
          "name": "stdout",
          "text": [
            "Guess the number between 1 and 10. You have 10 attempts.\n",
            "Attempt 1: Enter your guess: 1\n",
            "Wrong guess. You have 9 attempts left.\n",
            "Attempt 2: Enter your guess: 2\n",
            "Wrong guess. You have 8 attempts left.\n",
            "Attempt 3: Enter your guess: 3\n",
            "Wrong guess. You have 7 attempts left.\n",
            "Attempt 4: Enter your guess: 4\n",
            "Wrong guess. You have 6 attempts left.\n",
            "Attempt 5: Enter your guess: 5\n",
            "Wrong guess. You have 5 attempts left.\n",
            "Attempt 6: Enter your guess: 6\n",
            "Wrong guess. You have 4 attempts left.\n",
            "Attempt 7: Enter your guess: 7\n",
            "Congratulations! You guessed the right number!\n"
          ]
        }
      ]
    },
    {
      "cell_type": "markdown",
      "source": [
        "* airthmetic operator\n",
        "* assignment operator\n",
        "* comparision operator\n",
        "* logical operators\n",
        "* identity operators\n",
        "* membership operators\n",
        "* bitwise operators"
      ],
      "metadata": {
        "id": "TNO4rwTICqiC"
      }
    },
    {
      "cell_type": "code",
      "source": [
        "# airthmetic operators\n",
        "'''\n",
        "a+b\n",
        "a-b\n",
        "a*b\n",
        "a/b\n",
        "a//b\n",
        "a%b\n",
        "a**b\n",
        "'''\n",
        "# assignment operator\n",
        "'''\n",
        "a=b\n",
        "a+=3\n",
        "a-=3\n",
        "a*=3\n",
        "a/=3\n",
        "a%=3\n",
        "a//=3\n",
        "a**=3\n",
        "'''\n",
        "# comperision operators\n",
        "'''\n",
        "x==y\n",
        "x != y\n",
        "x > y\n",
        "x < y\n",
        "x >= y\n",
        "x <= y\n",
        "'''\n",
        "# logical operators\n",
        "'''\n",
        "x < 5 and x < 10\n",
        "x < 5 or x < 4\n",
        "not(x < 5 and x < 10)\n",
        "'''\n",
        "# membership opertors\n",
        "'''\n",
        "in\n",
        "not in\n",
        "'''\n",
        "#"
      ],
      "metadata": {
        "id": "28Uj6gDWCHFs"
      },
      "execution_count": null,
      "outputs": []
    },
    {
      "cell_type": "markdown",
      "source": [
        "* Check the Greater number"
      ],
      "metadata": {
        "id": "cQPrF3Z8LzVn"
      }
    },
    {
      "cell_type": "code",
      "source": [
        "# conditional operators\n",
        "a=33\n",
        "b=200\n",
        "if a>b:\n",
        "  print(\" a is Greatter than b .\")\n",
        "elif a<b:\n",
        "  print(\" b is Greaterthan a\")\n",
        "else:\n",
        "  print(\" a is equal to b \")"
      ],
      "metadata": {
        "colab": {
          "base_uri": "https://localhost:8080/"
        },
        "id": "2xt9ynq-Fc8R",
        "outputId": "d1964c06-3403-4b60-aad1-a0526d820187"
      },
      "execution_count": null,
      "outputs": [
        {
          "output_type": "stream",
          "name": "stdout",
          "text": [
            " b is Greaterthan a\n"
          ]
        }
      ]
    },
    {
      "cell_type": "markdown",
      "source": [
        "* Check eligiability of Voting"
      ],
      "metadata": {
        "id": "VLiWlwLzLqGN"
      }
    },
    {
      "cell_type": "code",
      "source": [
        "x=int(input(\"\\nEnter your age : \"))\n",
        "if x>=18:\n",
        "  print(\"Your eligiable to vote .\")\n",
        "else:\n",
        "  print(f\"hoooo! Sorry baby!! Your Not Eligiable to Vote . \\n 1wait for another {18-x } years\")"
      ],
      "metadata": {
        "colab": {
          "base_uri": "https://localhost:8080/"
        },
        "id": "n3ZArjDGIV7N",
        "outputId": "a47bb62c-5883-408c-95df-f5e0ad0be0a1"
      },
      "execution_count": null,
      "outputs": [
        {
          "output_type": "stream",
          "name": "stdout",
          "text": [
            "\n",
            "Enter your age : 12\n",
            "hoooo! Sorry baby!! Your Not Eligiable to Vote . \n",
            " wait for another 6 years\n"
          ]
        }
      ]
    },
    {
      "cell_type": "markdown",
      "source": [
        "* break"
      ],
      "metadata": {
        "id": "wDtP_cGfP_Eq"
      }
    },
    {
      "cell_type": "code",
      "source": [
        "# while loops : in a while loop we can run or exicute a set of ststements as long as the condition is true\n",
        "i=0\n",
        "while i<600000:\n",
        "  print(i)\n",
        "  if i>=10:\n",
        "    break\n",
        "  i+=2\n"
      ],
      "metadata": {
        "colab": {
          "base_uri": "https://localhost:8080/"
        },
        "id": "fpNe7jCLMwat",
        "outputId": "33d20625-2599-4c30-a486-9d2a2793a92a"
      },
      "execution_count": null,
      "outputs": [
        {
          "output_type": "stream",
          "name": "stdout",
          "text": [
            "0\n",
            "2\n",
            "4\n",
            "6\n",
            "8\n",
            "10\n"
          ]
        }
      ]
    },
    {
      "cell_type": "markdown",
      "source": [
        "* continue"
      ],
      "metadata": {
        "id": "ezI3oeYHP6Vh"
      }
    },
    {
      "cell_type": "code",
      "source": [
        "# while loops : in a while loop we can run or exicute a set of ststements as long as the condition is true\n",
        "i=0\n",
        "while i<6:\n",
        "  i+=1\n",
        "\n",
        "  if i==3:\n",
        "    continue\n",
        "  print(i)\n"
      ],
      "metadata": {
        "colab": {
          "base_uri": "https://localhost:8080/"
        },
        "outputId": "50d7ddf2-1a41-4dfe-98ce-442a79e71f73",
        "id": "TEaEbddlPTlP"
      },
      "execution_count": null,
      "outputs": [
        {
          "output_type": "stream",
          "name": "stdout",
          "text": [
            "1\n",
            "2\n",
            "4\n",
            "5\n",
            "6\n"
          ]
        }
      ]
    },
    {
      "cell_type": "code",
      "source": [
        "# for loop : it is a loop which is used for iteration or iterating over a sequence(list,tuple,dict etc....)\n",
        "fruits=[\"apple\",\"banana\",\"cherry\"]\n",
        "for x in fruits:\n",
        "  print(x)\n",
        "\n",
        "for x in \"abhi\":\n",
        "  print(x)\n",
        "  print()\n",
        "\n",
        "for x in range(6):\n",
        "  print(x)\n",
        "  print()\n"
      ],
      "metadata": {
        "colab": {
          "base_uri": "https://localhost:8080/"
        },
        "id": "HKPEPDegQHky",
        "outputId": "7ec49854-0ef1-449a-cff8-a3d231d323c8"
      },
      "execution_count": null,
      "outputs": [
        {
          "output_type": "stream",
          "name": "stdout",
          "text": [
            "apple\n",
            "banana\n",
            "cherry\n",
            "a\n",
            "\n",
            "b\n",
            "\n",
            "h\n",
            "\n",
            "i\n",
            "\n",
            "0\n",
            "\n",
            "1\n",
            "\n",
            "2\n",
            "\n",
            "3\n",
            "\n",
            "4\n",
            "\n",
            "5\n",
            "\n"
          ]
        }
      ]
    },
    {
      "cell_type": "markdown",
      "source": [
        "* nested for loop"
      ],
      "metadata": {
        "id": "iVFGNK7uT5nq"
      }
    },
    {
      "cell_type": "code",
      "source": [
        "adj=[\"red\",\"blue\",\"pink\"]\n",
        "fruits=[\"apple\",\"banana\",\"cherry\"]\n",
        "teast=[\"sweat\",\"bad\",\"good\"]\n",
        "for x in adj:\n",
        "  for y in fruits:\n",
        "    for z in teast:\n",
        "      print(x,y,z)"
      ],
      "metadata": {
        "colab": {
          "base_uri": "https://localhost:8080/"
        },
        "id": "dxXIh1PQT5Am",
        "outputId": "f4289b63-bfa4-4cf4-b5c6-0ab0cf93eb3d"
      },
      "execution_count": null,
      "outputs": [
        {
          "output_type": "stream",
          "name": "stdout",
          "text": [
            "red apple sweat\n",
            "red apple bad\n",
            "red apple good\n",
            "red banana sweat\n",
            "red banana bad\n",
            "red banana good\n",
            "red cherry sweat\n",
            "red cherry bad\n",
            "red cherry good\n",
            "blue apple sweat\n",
            "blue apple bad\n",
            "blue apple good\n",
            "blue banana sweat\n",
            "blue banana bad\n",
            "blue banana good\n",
            "blue cherry sweat\n",
            "blue cherry bad\n",
            "blue cherry good\n",
            "pink apple sweat\n",
            "pink apple bad\n",
            "pink apple good\n",
            "pink banana sweat\n",
            "pink banana bad\n",
            "pink banana good\n",
            "pink cherry sweat\n",
            "pink cherry bad\n",
            "pink cherry good\n"
          ]
        }
      ]
    },
    {
      "cell_type": "code",
      "source": [],
      "metadata": {
        "id": "s8Rd46yxVG35"
      },
      "execution_count": null,
      "outputs": []
    },
    {
      "cell_type": "code",
      "source": [
        "adj=[1,0]\n",
        "fruits=[1,0]\n",
        "teast=[1,0]\n",
        "for x in adj:\n",
        "  for y in fruits:\n",
        "    for z in teast:\n",
        "      print(x,y,z)"
      ],
      "metadata": {
        "colab": {
          "base_uri": "https://localhost:8080/"
        },
        "outputId": "ff50793b-bf54-4692-d710-f8c90bbc904f",
        "id": "5A9xCGNeVHSn"
      },
      "execution_count": null,
      "outputs": [
        {
          "output_type": "stream",
          "name": "stdout",
          "text": [
            "1 1 1\n",
            "1 1 0\n",
            "1 0 1\n",
            "1 0 0\n",
            "0 1 1\n",
            "0 1 0\n",
            "0 0 1\n",
            "0 0 0\n"
          ]
        }
      ]
    }
  ]
}