{
  "nbformat": 4,
  "nbformat_minor": 0,
  "metadata": {
    "colab": {
      "provenance": [],
      "authorship_tag": "ABX9TyMN20bCFJFvn55Y0Egjf2u+",
      "include_colab_link": true
    },
    "kernelspec": {
      "name": "python3",
      "display_name": "Python 3"
    },
    "language_info": {
      "name": "python"
    }
  },
  "cells": [
    {
      "cell_type": "markdown",
      "metadata": {
        "id": "view-in-github",
        "colab_type": "text"
      },
      "source": [
        "<a href=\"https://colab.research.google.com/github/Abhilash-K-R/skill_lab/blob/main/04_day_.ipynb\" target=\"_parent\"><img src=\"https://colab.research.google.com/assets/colab-badge.svg\" alt=\"Open In Colab\"/></a>"
      ]
    },
    {
      "cell_type": "code",
      "source": [
        "# Algorithms :- it is a step by step procrdure to solve particular problem\n",
        "'''\n",
        "#The order of complexity of numbers\n",
        "1: being the fastest\n",
        "2: being the slowest\n",
        "\n",
        "1:O(1)\n",
        "2:O(logn)\n",
        "3:O(n)\n",
        "4:O(n^2)\n",
        "5:O(n^3)\n",
        "6:O(n^k)\n",
        "7:O(2^n)\n",
        "8:O(n!)\n",
        "\n",
        "#problem no 1: calculate the sum of two numbers\n",
        "1. Start\n",
        "2. Take two numbers as input\n",
        "3. Add the two numbers\n",
        "4. Output the result\n",
        "5. End\n",
        "'''"
      ],
      "metadata": {
        "id": "YmS3KHwHSvfa"
      },
      "execution_count": null,
      "outputs": []
    },
    {
      "cell_type": "code",
      "execution_count": null,
      "metadata": {
        "colab": {
          "base_uri": "https://localhost:8080/"
        },
        "id": "Qcl8V_JONf4I",
        "outputId": "129fdf11-c08b-415c-aa60-16a2fc865892"
      },
      "outputs": [
        {
          "output_type": "stream",
          "name": "stdout",
          "text": [
            "Enter a 1st number : 1\n",
            "Enter a 2nd number : 1\n",
            "2\n"
          ]
        }
      ],
      "source": [
        "   # adding two numbers\n",
        "\n",
        "def add_num():\n",
        "  a = int(input(\"Enter a 1st number : \"))\n",
        "  b = int(input(\"Enter a 2nd number : \"))\n",
        "  return a+b\n",
        "print(add_num())"
      ]
    },
    {
      "cell_type": "code",
      "source": [
        "# problem statement : Algorithm to find the maximum value in the list\n",
        "'''\n",
        "1. start\n",
        "2. take the number as list\n",
        "3. finding the maximum value in the list\n",
        "4. initilaze the entire list\n",
        "5. loop through the entire list\n",
        "6. compare the each element which is the maximum with the next element in the list\n",
        "7. if an element found to be greater than the current maximum element\n",
        "8. update the new maximum\n",
        "9. output the maximum value\n",
        "10. End\n",
        "'''\n",
        "\n"
      ],
      "metadata": {
        "id": "VLc9JJTFYavj"
      },
      "execution_count": null,
      "outputs": []
    },
    {
      "cell_type": "code",
      "source": [
        "# Algorithms for finding maximum number\n",
        "\n",
        "def find_max(numbers):\n",
        "  max_value = numbers[0]\n",
        "  for i in numbers:\n",
        "    if i>max_value:\n",
        "      max_value = i\n",
        "  return max_value\n",
        "\n",
        "print(find_max([3,7,14,1,2]))"
      ],
      "metadata": {
        "colab": {
          "base_uri": "https://localhost:8080/"
        },
        "id": "q6Obqmmug2zy",
        "outputId": "a9cdb3be-5c9c-458c-e5e6-8581a2c0ece1"
      },
      "execution_count": null,
      "outputs": [
        {
          "output_type": "stream",
          "name": "stdout",
          "text": [
            "14\n"
          ]
        }
      ]
    },
    {
      "cell_type": "code",
      "source": [
        "# Algorithms for factorial\n",
        "\n",
        "'''\n",
        "1. start\n",
        "2. take the n values\n",
        "3. if the number is 1, rturn 1\n",
        "4. multiply number by the factorial of (number - 1)\n",
        "5. End\n",
        "'''\n",
        "\n",
        "def fact(n):\n",
        "  if n == 1:\n",
        "    return 1\n",
        "  else :\n",
        "    return n * fact(n-1)\n",
        "print(fact(5))"
      ],
      "metadata": {
        "colab": {
          "base_uri": "https://localhost:8080/"
        },
        "id": "ZMHRlneNsFyY",
        "outputId": "b08f1753-ccb7-47e1-b971-1bc3dc3c19f6"
      },
      "execution_count": null,
      "outputs": [
        {
          "output_type": "stream",
          "name": "stdout",
          "text": [
            "120\n"
          ]
        }
      ]
    },
    {
      "cell_type": "code",
      "source": [
        "# problem statement : print the fibonacci series of the no of term\n",
        "'''\n",
        "1. start\n",
        "2. take the n value\n",
        "3. if n is less than or equal 1 then we return the value of n\n",
        "4. else if the value is more than  1  then we do fibonacci (n-1) + fibonacci()\n",
        "5. print the output\n",
        "6. End\n",
        "'''\n",
        "\n",
        "def fib(n):\n",
        "  if n<= 1:\n",
        "    return n\n",
        "  else:\n",
        "    return fib(n-1)+fib(n-2)\n",
        "\n",
        "terms = int(input(\"Enter the  no of terms : \"))\n",
        "if terms <= 0:\n",
        "  print(\"Enter a possitive value \")\n",
        "else:\n",
        "  print(\"The fib will be : \")\n",
        "  for i in range(terms):\n",
        "    print(fib(i))"
      ],
      "metadata": {
        "colab": {
          "base_uri": "https://localhost:8080/"
        },
        "id": "nnLNqeAEu7Gt",
        "outputId": "6783e6ad-ba32-4100-df42-eba42caeafab"
      },
      "execution_count": null,
      "outputs": [
        {
          "output_type": "stream",
          "name": "stdout",
          "text": [
            "Enter the  no of terms : 4\n",
            "The fib will be : \n",
            "0\n",
            "1\n",
            "1\n",
            "2\n"
          ]
        }
      ]
    },
    {
      "cell_type": "code",
      "source": [
        "# Algorithms for pallindrome checking\n",
        "# pallindrome checking\n",
        "\n",
        "'''\n",
        "1. start\n",
        "2. take the input as a string\n",
        "3. reverse the entered string\n",
        "4. compare the existing string the reversed string\n",
        "5. if they are equal then we print that it is a pallindrome\n",
        "6. End\n",
        "'''\n",
        "\n",
        "def is_pall(word):\n",
        "  reverse_word = word[::-1]\n",
        "  if word == reverse_word:\n",
        "    return True\n",
        "  else:\n",
        "    return False\n",
        "print(is_pall(\"madam\"))"
      ],
      "metadata": {
        "colab": {
          "base_uri": "https://localhost:8080/"
        },
        "id": "txUlrLBny2nL",
        "outputId": "1e924c22-c580-4a2c-dd4c-e4bc8233b586"
      },
      "execution_count": null,
      "outputs": [
        {
          "output_type": "stream",
          "name": "stdout",
          "text": [
            "True\n"
          ]
        }
      ]
    },
    {
      "cell_type": "code",
      "source": [],
      "metadata": {
        "id": "L_Po6F1h12oZ"
      },
      "execution_count": null,
      "outputs": []
    },
    {
      "cell_type": "code",
      "source": [
        "# bubble sort : sorting of  a given list using bubble sort\n",
        "# Algorithms for bubble sort\n",
        "'''\n",
        "1. start\n",
        "2. take the input as an array\n",
        "3. cinsider 2 numbers and compare the first value with the adjacent value in the array\n",
        "4. if the elements are in the wrong order than swap them\n",
        "5. repeat until no more swaps are needded\n",
        "6. End\n",
        "'''\n",
        "\n",
        "def bubble_sort(arr):\n",
        "  n = len(arr)\n",
        "  for i in range(n):\n",
        "    for j in range(0,n-i-1):\n",
        "      if arr[j] > arr[j+1]:\n",
        "        arr[j],arr[j+1] = arr[j+1] , arr[j]\n",
        "  return arr\n",
        "print(bubble_sort([7,14,1,6,20]))"
      ],
      "metadata": {
        "colab": {
          "base_uri": "https://localhost:8080/"
        },
        "id": "UPX-3sc_7fMV",
        "outputId": "712d2e12-dafc-46ef-ed0a-c1484e4387c7"
      },
      "execution_count": null,
      "outputs": [
        {
          "output_type": "stream",
          "name": "stdout",
          "text": [
            "[1, 6, 7, 14, 20]\n"
          ]
        }
      ]
    },
    {
      "cell_type": "markdown",
      "source": [
        "#  LINEAR SEAECH\n"
      ],
      "metadata": {
        "id": "vZAJJE7QavOA"
      }
    },
    {
      "cell_type": "code",
      "source": [
        "# LINEAR SEARCH : It is a straight farward algorithm that checks each element in a list ,\n",
        "#  one by one until it finds the element we are lookng for\n",
        "\n",
        "# Using Numbers\n",
        "\n",
        "def len_search(arr,target):\n",
        "  for i in range(len(arr)):\n",
        "    if arr[i] == target:\n",
        "      return i  # print(f\"the element found at {i} the index \")\n",
        "  return -1\n",
        "numbers = [10,20,30,40,50]\n",
        "print(len_search(numbers, 40 ))\n"
      ],
      "metadata": {
        "colab": {
          "base_uri": "https://localhost:8080/"
        },
        "id": "cJoGFUvwUgk1",
        "outputId": "8d23e2af-e661-40c5-9769-53c0dca6be07"
      },
      "execution_count": null,
      "outputs": [
        {
          "output_type": "stream",
          "name": "stdout",
          "text": [
            "3\n"
          ]
        }
      ]
    },
    {
      "cell_type": "code",
      "source": [
        "# Using strings\n",
        "\n",
        "def len_search(arr,target):\n",
        "  for i in range(len(arr)):\n",
        "    if arr[i] == target:\n",
        "      return i  # print(f\"the element found at {i} the index \")\n",
        "  return -1\n",
        "words = [\"apple\",\"banana\",\"cherry\",\"mango\"]\n",
        "print(len_search(words, \"cherry\" ))\n"
      ],
      "metadata": {
        "colab": {
          "base_uri": "https://localhost:8080/"
        },
        "id": "0pngf5hSZMcr",
        "outputId": "9748fd0f-be40-4f0b-b059-aca18a48c241"
      },
      "execution_count": null,
      "outputs": [
        {
          "output_type": "stream",
          "name": "stdout",
          "text": [
            "2\n"
          ]
        }
      ]
    },
    {
      "cell_type": "markdown",
      "source": [
        "# BINARY SEARCH"
      ],
      "metadata": {
        "id": "S5tp-wosfBOv"
      }
    },
    {
      "cell_type": "code",
      "source": [
        "# Binary Search only takes sorted arrays\n",
        "'''\n",
        " binary search :- it is a more efficient algorithms than linear search\n",
        " because its has a complexity of O(logn) unnlike linear search which has a Complexity of O(n) in binary\n",
        " search it repeatedly divides the searching interval in half\n",
        " if the target value is less than midpoint we go to the left\n",
        " if it is more than the midpoint we go to the right and find for the target value\n",
        "'''"
      ],
      "metadata": {
        "id": "1axRWDZOaaz3"
      },
      "execution_count": null,
      "outputs": []
    },
    {
      "cell_type": "code",
      "source": [
        "# binary search\n",
        "\n",
        "#  Using Numbers\n",
        "\n",
        "def bin_search(arr,target):\n",
        "  left = 0\n",
        "  right = len(arr) -1\n",
        "  while left <= right:\n",
        "    mid = (left+right) // 2\n",
        "    if arr[mid] == target:\n",
        "      return mid\n",
        "    elif arr[mid]<target:\n",
        "      left = mid\n",
        "    else:\n",
        "      right = mid -1\n",
        "  return -1\n",
        "\n",
        "number = [10,20,30,40,50]\n",
        "print(bin_search(number,40))"
      ],
      "metadata": {
        "colab": {
          "base_uri": "https://localhost:8080/"
        },
        "id": "MXB1AqyrfIYs",
        "outputId": "ce7cb798-c5f2-4aa6-b766-eec7f9c83fba"
      },
      "execution_count": null,
      "outputs": [
        {
          "output_type": "stream",
          "name": "stdout",
          "text": [
            "3\n"
          ]
        }
      ]
    },
    {
      "cell_type": "code",
      "source": [
        "#  Using Words\n",
        "\n",
        "def bin_search(arr,target):\n",
        "  left = 0\n",
        "  right = len(arr) -1\n",
        "  while left <= right:\n",
        "    mid = (left+right) // 2\n",
        "    if arr[mid] == target:\n",
        "      return mid\n",
        "    elif arr[mid]<target:\n",
        "      left = mid\n",
        "    else:\n",
        "      right = mid -1\n",
        "  return -1\n",
        "\n",
        "word = [\"apple\",\"banana\",\"cherry\"]\n",
        "print(bin_search(word,\"apple\"))"
      ],
      "metadata": {
        "colab": {
          "base_uri": "https://localhost:8080/"
        },
        "id": "4v77ka02oIZo",
        "outputId": "1438a194-7152-4f99-b5ce-768e1e758981"
      },
      "execution_count": null,
      "outputs": [
        {
          "output_type": "stream",
          "name": "stdout",
          "text": [
            "0\n"
          ]
        }
      ]
    },
    {
      "cell_type": "code",
      "source": [
        "# love caluculator\n",
        "\n",
        "import random\n",
        "def love_calculator():\n",
        "  print(\"Welcome to love Calculator\")\n",
        "\n",
        "  name1 = input(\"Enter the first name : \")\n",
        "  name2 = input(\"Enter the second name : \")\n",
        "\n",
        "  love_score = random.randint(1,100)\n",
        "\n",
        "  print(f\"The Percentage of love between {name1}  and {name2} is {love_score}%\")\n",
        "\n",
        "love_calculator()"
      ],
      "metadata": {
        "colab": {
          "base_uri": "https://localhost:8080/"
        },
        "id": "ITeWygLJhSWI",
        "outputId": "233fce0c-3dbe-4e0c-fb50-f34537888809"
      },
      "execution_count": null,
      "outputs": [
        {
          "output_type": "stream",
          "name": "stdout",
          "text": [
            "Welcome to love Calculator\n",
            "Enter the first name : free fire\n",
            "Enter the second name : pubg\n",
            "The Percentage of love between free fire  and pubg is 86%\n"
          ]
        }
      ]
    },
    {
      "cell_type": "code",
      "source": [
        "# Expense tracker app were we use linear search and binary search\n",
        "\n",
        "transactions = [\n",
        "{\"date\": \"2024-08-01\", \"amount\": 50.0, \"description\": \"Groceries\",\"mop\":\"google pay\"},\n",
        "{\"date\": \"2024-08-02\", \"amount\": 20.0, \"description\": \"Bus fare\",\"mop\":\"cash\"},\n",
        "{\"date\": \"2024-08-03\", \"amount\": 100.0, \"description\": \"Electricity bill\"},\n",
        "{\"date\": \"2024-08-04\", \"amount\": 200.0, \"description\": \"New shoes\"},\n",
        "]\n",
        "\n",
        "# linear search for reansaction by date\n",
        "\n",
        "def search_by_date(transactions,target_date):\n",
        "  for transaction in transactions:\n",
        "    if transaction[\"date\"] == target_date:\n",
        "      return transaction\n",
        "  return \"transaction not found\"\n",
        "print(search_by_date(transactions,\"2024-08-03\"))"
      ],
      "metadata": {
        "colab": {
          "base_uri": "https://localhost:8080/"
        },
        "id": "rPFOZwqgobpP",
        "outputId": "cc10c63d-42c2-4455-fa03-43ca672be176"
      },
      "execution_count": null,
      "outputs": [
        {
          "output_type": "stream",
          "name": "stdout",
          "text": [
            "{'date': '2024-08-03', 'amount': 100.0, 'description': 'Electricity bill'}\n"
          ]
        }
      ]
    },
    {
      "cell_type": "code",
      "source": [
        "transactions = [\n",
        "{\"date\": \"2024-08-01\", \"amount\": 50.0, \"description\": \"Groceries\",\"mop\":\"google pay\"},\n",
        "{\"date\": \"2024-08-02\", \"amount\": 20.0, \"description\": \"Bus fare\",\"mop\":\"cash\"},\n",
        "{\"date\": \"2024-08-03\", \"amount\": 100.0, \"description\": \"Electricity bill\"},\n",
        "{\"date\": \"2024-08-04\", \"amount\": 200.0, \"description\": \"New shoes\"},\n",
        "]\n",
        "\n",
        "\n",
        "def binary_search_by_date(transactions, target_date):\n",
        "    target_date = datetime.strptime(target_date, \"%Y-%m-%d\")\n",
        "    left, right = 0, len(transactions) - 1\n",
        "    while left <= right:\n",
        "        mid = (left + right) // 2\n",
        "        mid_date = datetime.strptime(transactions[mid]['date'], \"%Y-%m-%d\")\n",
        "\n",
        "        if mid_date == target_date:\n",
        "            return transactions[mid]\n",
        "        elif mid_date < target_date:\n",
        "            left = mid + 1\n",
        "        else:\n",
        "            right = mid - 1\n",
        "    return \"Transaction not found\"\n",
        "print(binary_search_by_date(transactions, \"2024-08-03\"))"
      ],
      "metadata": {
        "id": "t-DGqTw6eIsW"
      },
      "execution_count": null,
      "outputs": []
    }
  ]
}